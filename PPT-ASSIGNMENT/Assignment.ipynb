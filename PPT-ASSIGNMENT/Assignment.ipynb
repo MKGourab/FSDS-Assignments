{
 "cells": [
  {
   "attachments": {},
   "cell_type": "markdown",
   "metadata": {},
   "source": [
    "1. Write a Python program to reverse a string without using any built-in string reversal functions."
   ]
  },
  {
   "cell_type": "code",
   "execution_count": 1,
   "metadata": {},
   "outputs": [
    {
     "name": "stdout",
     "output_type": "stream",
     "text": [
      "Reverse of iNeuron is norueNi\n"
     ]
    }
   ],
   "source": [
    "def rev_str(str):\n",
    "    reversed_str=\"\"\n",
    "    for i in range(len(str)-1,-1,-1):\n",
    "        reversed_str += str[i]\n",
    "    return reversed_str\n",
    "x=input(\"Enter the string : \")\n",
    "print(f\"Reverse of {x} is {rev_str(x)}\")"
   ]
  },
  {
   "attachments": {},
   "cell_type": "markdown",
   "metadata": {},
   "source": [
    "2. Implement a function to check if a given string, is a palindrome."
   ]
  },
  {
   "cell_type": "code",
   "execution_count": 2,
   "metadata": {},
   "outputs": [
    {
     "name": "stdout",
     "output_type": "stream",
     "text": [
      "The string castle is not a palindrome.\n"
     ]
    }
   ],
   "source": [
    "def is_palindrome(string):\n",
    "    string = string.upper()\n",
    "    string = ''.join(char for char in string if char.isalnum())\n",
    "    \n",
    "    return string == string[::-1]\n",
    "\n",
    "\n",
    "input_str = input(\"Enter a string: \")\n",
    "if is_palindrome(input_str):\n",
    "    print(f\"The string {input_str} is a palindrome.\")\n",
    "else:\n",
    "    print(f\"The string {input_str} is not a palindrome.\")"
   ]
  },
  {
   "attachments": {},
   "cell_type": "markdown",
   "metadata": {},
   "source": [
    "3. Write a program to find the largest element in a given list."
   ]
  },
  {
   "cell_type": "code",
   "execution_count": 3,
   "metadata": {},
   "outputs": [
    {
     "name": "stdout",
     "output_type": "stream",
     "text": [
      "The largest element of [1, 3, 5, 7, 9, 11, 15] is 15\n"
     ]
    }
   ],
   "source": [
    "def largest_element(lst):\n",
    "    l=lst[0]\n",
    "    for i in lst:\n",
    "        if i > l:\n",
    "            l = i\n",
    "    return l\n",
    "\n",
    "lst=[int(val) for val in input(\"enter element to list :\").split(\",\")]\n",
    "print(f\"The largest element of {lst} is {largest_element(lst)}\")  "
   ]
  },
  {
   "attachments": {},
   "cell_type": "markdown",
   "metadata": {},
   "source": [
    "4. Implement a function to count the occurrence of each element in a list."
   ]
  },
  {
   "cell_type": "code",
   "execution_count": 4,
   "metadata": {},
   "outputs": [
    {
     "name": "stdout",
     "output_type": "stream",
     "text": [
      "Occurrence of each element in [1, 3, 5, 9, 7, 75, 55, 11, 7, 5, 7] : \n",
      "1 : 1\n",
      "3 : 1\n",
      "5 : 2\n",
      "9 : 1\n",
      "7 : 3\n",
      "75 : 1\n",
      "55 : 1\n",
      "11 : 1\n"
     ]
    }
   ],
   "source": [
    "def ele_count(lst):\n",
    "    l={}\n",
    "    for i in lst:\n",
    "        if i not in l:\n",
    "            l[i]=1\n",
    "        else:\n",
    "            l[i] += 1\n",
    "    return l\n",
    "\n",
    "in_list=[int(val) for val in input(\"enter element to list :\").split(\",\")]\n",
    "print(f\"Occurrence of each element in {in_list} : \")\n",
    "for key,val in ele_count(in_list).items():\n",
    "    print(f\"{key} : {val}\")"
   ]
  },
  {
   "attachments": {},
   "cell_type": "markdown",
   "metadata": {},
   "source": [
    "5. Write a Python program to find the second largest number in a list."
   ]
  },
  {
   "cell_type": "code",
   "execution_count": 7,
   "metadata": {},
   "outputs": [
    {
     "name": "stdout",
     "output_type": "stream",
     "text": [
      "The second largest number in [10, 27, 42, 63, 45, 88, 79, 70] is 79\n"
     ]
    }
   ],
   "source": [
    "def second_largest(lst):\n",
    "    if len(lst) >= 2:\n",
    "        largest = max(lst[0], lst[1])  \n",
    "        second_largest = min(lst[0], lst[1])\n",
    "\n",
    "        for i in lst[2:]:\n",
    "            if i > largest:\n",
    "                second_largest = largest\n",
    "                largest = i\n",
    "            elif i > second_largest:\n",
    "                second_largest = i\n",
    "        return second_largest\n",
    "    else:\n",
    "        return None\n",
    "\n",
    "\n",
    "in_list = [int(val) for val in input(\"Enter elements to list :\").split(\",\")]\n",
    "\n",
    "if second_largest(in_list) is not None:\n",
    "    print(f\"The second largest number in {in_list} is {second_largest(in_list)}\")\n",
    "else:\n",
    "    print(f\"{in_list} does not have a second largest number.\")"
   ]
  },
  {
   "attachments": {},
   "cell_type": "markdown",
   "metadata": {},
   "source": [
    "6. Implement a function to remove duplicate elements from a list."
   ]
  },
  {
   "cell_type": "code",
   "execution_count": 8,
   "metadata": {},
   "outputs": [
    {
     "name": "stdout",
     "output_type": "stream",
     "text": [
      "Removing duplicate elements from [10, 27, 42, 63, 45, 43, 27] : [10, 27, 42, 63, 45, 43]\n"
     ]
    }
   ],
   "source": [
    "def remove_duplicate(lst):\n",
    "    l=[]\n",
    "    for i in lst:\n",
    "        if i not in l:\n",
    "            l.append(i)\n",
    "    return l\n",
    "in_list = [int(val) for val in input(\"Enter elements to list :\").split(\",\")]\n",
    "print(f\"Removing duplicate elements from {in_list} : {remove_duplicate(in_list)}\")"
   ]
  },
  {
   "attachments": {},
   "cell_type": "markdown",
   "metadata": {},
   "source": [
    "7. Write a program to calculate the factorial of a given number."
   ]
  },
  {
   "cell_type": "code",
   "execution_count": 9,
   "metadata": {},
   "outputs": [
    {
     "name": "stdout",
     "output_type": "stream",
     "text": [
      "factorial of 5 is 120\n"
     ]
    }
   ],
   "source": [
    "def fact(n):\n",
    "    if n == 0:\n",
    "        return 1\n",
    "    else:\n",
    "        return n * fact(n - 1)\n",
    "\n",
    "\n",
    "n = int(input(\"Enter a number: \"))\n",
    "if n < 0:\n",
    "    print(\"Factorial is not defined for negative numbers.\")\n",
    "else:\n",
    "    print(f\"factorial of {n} is {fact(n)}\")"
   ]
  },
  {
   "attachments": {},
   "cell_type": "markdown",
   "metadata": {},
   "source": [
    "8. Implement a function to check if a given number is prime."
   ]
  },
  {
   "cell_type": "code",
   "execution_count": 10,
   "metadata": {},
   "outputs": [
    {
     "name": "stdout",
     "output_type": "stream",
     "text": [
      "27 is not a Prime Number\n"
     ]
    }
   ],
   "source": [
    "def is_prime(num):\n",
    "        for i in range(2,num):\n",
    "            if num%i == 0:\n",
    "                print(\"{} is not a Prime Number\".format(num))\n",
    "                break\n",
    "        else:\n",
    "            print(\"{} is a Prime  Number\".format(num))\n",
    "in_number=int(input(\"Enter a number :\"))\n",
    "is_prime(in_number)"
   ]
  },
  {
   "attachments": {},
   "cell_type": "markdown",
   "metadata": {},
   "source": [
    "9. Write a Python program to sort a list of integers in ascending order."
   ]
  },
  {
   "cell_type": "code",
   "execution_count": 11,
   "metadata": {},
   "outputs": [
    {
     "name": "stdout",
     "output_type": "stream",
     "text": [
      "Ascending order of [10, 27, 42, 63, 45, 88, 79, 70] : [10, 27, 42, 45, 63, 70, 79, 88]\n"
     ]
    }
   ],
   "source": [
    "def ascending_order(lst):\n",
    "    lst.sort()\n",
    "    return lst\n",
    "\n",
    "in_list = [int(val) for val in input(\"Enter elements to list :\").split(\",\")]\n",
    "print(f\"Ascending order of {in_list} : {ascending_order(in_list)}\")"
   ]
  },
  {
   "attachments": {},
   "cell_type": "markdown",
   "metadata": {},
   "source": [
    "10. Implement a function to find the sum of all numbers in a list."
   ]
  },
  {
   "cell_type": "code",
   "execution_count": 12,
   "metadata": {},
   "outputs": [
    {
     "name": "stdout",
     "output_type": "stream",
     "text": [
      "Sum of elements of [10, 27, 42, 63, 45, 88] : 275\n"
     ]
    }
   ],
   "source": [
    "def sum_list(lst):\n",
    "    sum=0\n",
    "    for i in lst:\n",
    "        sum += i\n",
    "    return sum\n",
    "\n",
    "in_list = [int(val) for val in input(\"Enter elements to list :\").split(\",\")]\n",
    "print(f\"Sum of elements of {in_list} : {sum_list(in_list)}\")"
   ]
  },
  {
   "attachments": {},
   "cell_type": "markdown",
   "metadata": {},
   "source": [
    "11. Write a program to find the common elements between two lists."
   ]
  },
  {
   "cell_type": "code",
   "execution_count": 13,
   "metadata": {},
   "outputs": [
    {
     "name": "stdout",
     "output_type": "stream",
     "text": [
      "Common elements of [10, 27, 42, 63, 45, 88, 79, 70] and [10, 27, 42, 63, 45, 88, 7, 32, 67, 21] : [10, 27, 42, 63, 45, 88]\n"
     ]
    }
   ],
   "source": [
    "def common_element(lst1,lst2):\n",
    "    l=[]\n",
    "    for i in lst1:\n",
    "        for j in lst2:\n",
    "            if i == j:\n",
    "                l.append(i)\n",
    "    return l\n",
    "\n",
    "in_list1 = [int(val) for val in input(\"Enter elements to list :\").split(\",\")]\n",
    "in_list2 = [int(val) for val in input(\"Enter elements to list :\").split(\",\")]\n",
    "result=common_element(in_list1,in_list2)\n",
    "if len(result)>=1:\n",
    "    print(f\"Common elements of {in_list1} and {in_list2} : {result}\")\n",
    "else:\n",
    "    print(f\"There is no Common elements between {in_list1} and {in_list2}\") "
   ]
  },
  {
   "attachments": {},
   "cell_type": "markdown",
   "metadata": {},
   "source": [
    "12. Implement a function to check if a given string is an anagram of another string."
   ]
  },
  {
   "cell_type": "code",
   "execution_count": 14,
   "metadata": {},
   "outputs": [
    {
     "name": "stdout",
     "output_type": "stream",
     "text": [
      "race and part are not anagram of each other\n"
     ]
    }
   ],
   "source": [
    "def is_anagram(string1,string2):\n",
    "    string1 = string1.lower().replace(\" \",\"\")\n",
    "    string2 = string2.lower().replace(\" \",\"\")\n",
    "    \n",
    "    if len(string1) != len(string2):\n",
    "        return False\n",
    "    f1={}\n",
    "    f2={}\n",
    "    \n",
    "    for i in string1:\n",
    "        f1[i] = f1.get(i, 0) + 1\n",
    "    for i in string2:\n",
    "        f2[i] = f2.get(i, 0) + 1\n",
    "    \n",
    "    return f1 == f2\n",
    "in_string1=input(\"Enter first string :\")\n",
    "in_string2=input(\"Enter second string :\")\n",
    "if is_anagram(in_string1,in_string2):\n",
    "    print(f\"{in_string1} and {in_string2} are anagram of each other\")\n",
    "else:\n",
    "    print(f\"{in_string1} and {in_string2} are not anagram of each other\")"
   ]
  },
  {
   "attachments": {},
   "cell_type": "markdown",
   "metadata": {},
   "source": [
    "13. Write a Python program to generate all permutations of a given string."
   ]
  },
  {
   "cell_type": "code",
   "execution_count": 75,
   "metadata": {},
   "outputs": [
    {
     "name": "stdout",
     "output_type": "stream",
     "text": [
      "All permutations of the beyond :\n",
      "beyond\n",
      "beyodn\n",
      "beynod\n",
      "beyndo\n",
      "beydon\n",
      "beydno\n",
      "beoynd\n",
      "beoydn\n",
      "beonyd\n",
      "beondy\n",
      "beodyn\n",
      "beodny\n",
      "benyod\n",
      "benydo\n",
      "benoyd\n",
      "benody\n",
      "bendyo\n",
      "bendoy\n",
      "bedyon\n",
      "bedyno\n",
      "bedoyn\n",
      "bedony\n",
      "bednyo\n",
      "bednoy\n",
      "byeond\n",
      "byeodn\n",
      "byenod\n",
      "byendo\n",
      "byedon\n",
      "byedno\n",
      "byoend\n",
      "byoedn\n",
      "byoned\n",
      "byonde\n",
      "byoden\n",
      "byodne\n",
      "byneod\n",
      "bynedo\n",
      "bynoed\n",
      "bynode\n",
      "byndeo\n",
      "byndoe\n",
      "bydeon\n",
      "bydeno\n",
      "bydoen\n",
      "bydone\n",
      "bydneo\n",
      "bydnoe\n",
      "boeynd\n",
      "boeydn\n",
      "boenyd\n",
      "boendy\n",
      "boedyn\n",
      "boedny\n",
      "boyend\n",
      "boyedn\n",
      "boyned\n",
      "boynde\n",
      "boyden\n",
      "boydne\n",
      "boneyd\n",
      "bonedy\n",
      "bonyed\n",
      "bonyde\n",
      "bondey\n",
      "bondye\n",
      "bodeyn\n",
      "bodeny\n",
      "bodyen\n",
      "bodyne\n",
      "bodney\n",
      "bodnye\n",
      "bneyod\n",
      "bneydo\n",
      "bneoyd\n",
      "bneody\n",
      "bnedyo\n",
      "bnedoy\n",
      "bnyeod\n",
      "bnyedo\n",
      "bnyoed\n",
      "bnyode\n",
      "bnydeo\n",
      "bnydoe\n",
      "bnoeyd\n",
      "bnoedy\n",
      "bnoyed\n",
      "bnoyde\n",
      "bnodey\n",
      "bnodye\n",
      "bndeyo\n",
      "bndeoy\n",
      "bndyeo\n",
      "bndyoe\n",
      "bndoey\n",
      "bndoye\n",
      "bdeyon\n",
      "bdeyno\n",
      "bdeoyn\n",
      "bdeony\n",
      "bdenyo\n",
      "bdenoy\n",
      "bdyeon\n",
      "bdyeno\n",
      "bdyoen\n",
      "bdyone\n",
      "bdyneo\n",
      "bdynoe\n",
      "bdoeyn\n",
      "bdoeny\n",
      "bdoyen\n",
      "bdoyne\n",
      "bdoney\n",
      "bdonye\n",
      "bdneyo\n",
      "bdneoy\n",
      "bdnyeo\n",
      "bdnyoe\n",
      "bdnoey\n",
      "bdnoye\n",
      "ebyond\n",
      "ebyodn\n",
      "ebynod\n",
      "ebyndo\n",
      "ebydon\n",
      "ebydno\n",
      "eboynd\n",
      "eboydn\n",
      "ebonyd\n",
      "ebondy\n",
      "ebodyn\n",
      "ebodny\n",
      "ebnyod\n",
      "ebnydo\n",
      "ebnoyd\n",
      "ebnody\n",
      "ebndyo\n",
      "ebndoy\n",
      "ebdyon\n",
      "ebdyno\n",
      "ebdoyn\n",
      "ebdony\n",
      "ebdnyo\n",
      "ebdnoy\n",
      "eybond\n",
      "eybodn\n",
      "eybnod\n",
      "eybndo\n",
      "eybdon\n",
      "eybdno\n",
      "eyobnd\n",
      "eyobdn\n",
      "eyonbd\n",
      "eyondb\n",
      "eyodbn\n",
      "eyodnb\n",
      "eynbod\n",
      "eynbdo\n",
      "eynobd\n",
      "eynodb\n",
      "eyndbo\n",
      "eyndob\n",
      "eydbon\n",
      "eydbno\n",
      "eydobn\n",
      "eydonb\n",
      "eydnbo\n",
      "eydnob\n",
      "eobynd\n",
      "eobydn\n",
      "eobnyd\n",
      "eobndy\n",
      "eobdyn\n",
      "eobdny\n",
      "eoybnd\n",
      "eoybdn\n",
      "eoynbd\n",
      "eoyndb\n",
      "eoydbn\n",
      "eoydnb\n",
      "eonbyd\n",
      "eonbdy\n",
      "eonybd\n",
      "eonydb\n",
      "eondby\n",
      "eondyb\n",
      "eodbyn\n",
      "eodbny\n",
      "eodybn\n",
      "eodynb\n",
      "eodnby\n",
      "eodnyb\n",
      "enbyod\n",
      "enbydo\n",
      "enboyd\n",
      "enbody\n",
      "enbdyo\n",
      "enbdoy\n",
      "enybod\n",
      "enybdo\n",
      "enyobd\n",
      "enyodb\n",
      "enydbo\n",
      "enydob\n",
      "enobyd\n",
      "enobdy\n",
      "enoybd\n",
      "enoydb\n",
      "enodby\n",
      "enodyb\n",
      "endbyo\n",
      "endboy\n",
      "endybo\n",
      "endyob\n",
      "endoby\n",
      "endoyb\n",
      "edbyon\n",
      "edbyno\n",
      "edboyn\n",
      "edbony\n",
      "edbnyo\n",
      "edbnoy\n",
      "edybon\n",
      "edybno\n",
      "edyobn\n",
      "edyonb\n",
      "edynbo\n",
      "edynob\n",
      "edobyn\n",
      "edobny\n",
      "edoybn\n",
      "edoynb\n",
      "edonby\n",
      "edonyb\n",
      "ednbyo\n",
      "ednboy\n",
      "ednybo\n",
      "ednyob\n",
      "ednoby\n",
      "ednoyb\n",
      "ybeond\n",
      "ybeodn\n",
      "ybenod\n",
      "ybendo\n",
      "ybedon\n",
      "ybedno\n",
      "yboend\n",
      "yboedn\n",
      "yboned\n",
      "ybonde\n",
      "yboden\n",
      "ybodne\n",
      "ybneod\n",
      "ybnedo\n",
      "ybnoed\n",
      "ybnode\n",
      "ybndeo\n",
      "ybndoe\n",
      "ybdeon\n",
      "ybdeno\n",
      "ybdoen\n",
      "ybdone\n",
      "ybdneo\n",
      "ybdnoe\n",
      "yebond\n",
      "yebodn\n",
      "yebnod\n",
      "yebndo\n",
      "yebdon\n",
      "yebdno\n",
      "yeobnd\n",
      "yeobdn\n",
      "yeonbd\n",
      "yeondb\n",
      "yeodbn\n",
      "yeodnb\n",
      "yenbod\n",
      "yenbdo\n",
      "yenobd\n",
      "yenodb\n",
      "yendbo\n",
      "yendob\n",
      "yedbon\n",
      "yedbno\n",
      "yedobn\n",
      "yedonb\n",
      "yednbo\n",
      "yednob\n",
      "yobend\n",
      "yobedn\n",
      "yobned\n",
      "yobnde\n",
      "yobden\n",
      "yobdne\n",
      "yoebnd\n",
      "yoebdn\n",
      "yoenbd\n",
      "yoendb\n",
      "yoedbn\n",
      "yoednb\n",
      "yonbed\n",
      "yonbde\n",
      "yonebd\n",
      "yonedb\n",
      "yondbe\n",
      "yondeb\n",
      "yodben\n",
      "yodbne\n",
      "yodebn\n",
      "yodenb\n",
      "yodnbe\n",
      "yodneb\n",
      "ynbeod\n",
      "ynbedo\n",
      "ynboed\n",
      "ynbode\n",
      "ynbdeo\n",
      "ynbdoe\n",
      "ynebod\n",
      "ynebdo\n",
      "yneobd\n",
      "yneodb\n",
      "ynedbo\n",
      "ynedob\n",
      "ynobed\n",
      "ynobde\n",
      "ynoebd\n",
      "ynoedb\n",
      "ynodbe\n",
      "ynodeb\n",
      "yndbeo\n",
      "yndboe\n",
      "yndebo\n",
      "yndeob\n",
      "yndobe\n",
      "yndoeb\n",
      "ydbeon\n",
      "ydbeno\n",
      "ydboen\n",
      "ydbone\n",
      "ydbneo\n",
      "ydbnoe\n",
      "ydebon\n",
      "ydebno\n",
      "ydeobn\n",
      "ydeonb\n",
      "ydenbo\n",
      "ydenob\n",
      "ydoben\n",
      "ydobne\n",
      "ydoebn\n",
      "ydoenb\n",
      "ydonbe\n",
      "ydoneb\n",
      "ydnbeo\n",
      "ydnboe\n",
      "ydnebo\n",
      "ydneob\n",
      "ydnobe\n",
      "ydnoeb\n",
      "obeynd\n",
      "obeydn\n",
      "obenyd\n",
      "obendy\n",
      "obedyn\n",
      "obedny\n",
      "obyend\n",
      "obyedn\n",
      "obyned\n",
      "obynde\n",
      "obyden\n",
      "obydne\n",
      "obneyd\n",
      "obnedy\n",
      "obnyed\n",
      "obnyde\n",
      "obndey\n",
      "obndye\n",
      "obdeyn\n",
      "obdeny\n",
      "obdyen\n",
      "obdyne\n",
      "obdney\n",
      "obdnye\n",
      "oebynd\n",
      "oebydn\n",
      "oebnyd\n",
      "oebndy\n",
      "oebdyn\n",
      "oebdny\n",
      "oeybnd\n",
      "oeybdn\n",
      "oeynbd\n",
      "oeyndb\n",
      "oeydbn\n",
      "oeydnb\n",
      "oenbyd\n",
      "oenbdy\n",
      "oenybd\n",
      "oenydb\n",
      "oendby\n",
      "oendyb\n",
      "oedbyn\n",
      "oedbny\n",
      "oedybn\n",
      "oedynb\n",
      "oednby\n",
      "oednyb\n",
      "oybend\n",
      "oybedn\n",
      "oybned\n",
      "oybnde\n",
      "oybden\n",
      "oybdne\n",
      "oyebnd\n",
      "oyebdn\n",
      "oyenbd\n",
      "oyendb\n",
      "oyedbn\n",
      "oyednb\n",
      "oynbed\n",
      "oynbde\n",
      "oynebd\n",
      "oynedb\n",
      "oyndbe\n",
      "oyndeb\n",
      "oydben\n",
      "oydbne\n",
      "oydebn\n",
      "oydenb\n",
      "oydnbe\n",
      "oydneb\n",
      "onbeyd\n",
      "onbedy\n",
      "onbyed\n",
      "onbyde\n",
      "onbdey\n",
      "onbdye\n",
      "onebyd\n",
      "onebdy\n",
      "oneybd\n",
      "oneydb\n",
      "onedby\n",
      "onedyb\n",
      "onybed\n",
      "onybde\n",
      "onyebd\n",
      "onyedb\n",
      "onydbe\n",
      "onydeb\n",
      "ondbey\n",
      "ondbye\n",
      "ondeby\n",
      "ondeyb\n",
      "ondybe\n",
      "ondyeb\n",
      "odbeyn\n",
      "odbeny\n",
      "odbyen\n",
      "odbyne\n",
      "odbney\n",
      "odbnye\n",
      "odebyn\n",
      "odebny\n",
      "odeybn\n",
      "odeynb\n",
      "odenby\n",
      "odenyb\n",
      "odyben\n",
      "odybne\n",
      "odyebn\n",
      "odyenb\n",
      "odynbe\n",
      "odyneb\n",
      "odnbey\n",
      "odnbye\n",
      "odneby\n",
      "odneyb\n",
      "odnybe\n",
      "odnyeb\n",
      "nbeyod\n",
      "nbeydo\n",
      "nbeoyd\n",
      "nbeody\n",
      "nbedyo\n",
      "nbedoy\n",
      "nbyeod\n",
      "nbyedo\n",
      "nbyoed\n",
      "nbyode\n",
      "nbydeo\n",
      "nbydoe\n",
      "nboeyd\n",
      "nboedy\n",
      "nboyed\n",
      "nboyde\n",
      "nbodey\n",
      "nbodye\n",
      "nbdeyo\n",
      "nbdeoy\n",
      "nbdyeo\n",
      "nbdyoe\n",
      "nbdoey\n",
      "nbdoye\n",
      "nebyod\n",
      "nebydo\n",
      "neboyd\n",
      "nebody\n",
      "nebdyo\n",
      "nebdoy\n",
      "neybod\n",
      "neybdo\n",
      "neyobd\n",
      "neyodb\n",
      "neydbo\n",
      "neydob\n",
      "neobyd\n",
      "neobdy\n",
      "neoybd\n",
      "neoydb\n",
      "neodby\n",
      "neodyb\n",
      "nedbyo\n",
      "nedboy\n",
      "nedybo\n",
      "nedyob\n",
      "nedoby\n",
      "nedoyb\n",
      "nybeod\n",
      "nybedo\n",
      "nyboed\n",
      "nybode\n",
      "nybdeo\n",
      "nybdoe\n",
      "nyebod\n",
      "nyebdo\n",
      "nyeobd\n",
      "nyeodb\n",
      "nyedbo\n",
      "nyedob\n",
      "nyobed\n",
      "nyobde\n",
      "nyoebd\n",
      "nyoedb\n",
      "nyodbe\n",
      "nyodeb\n",
      "nydbeo\n",
      "nydboe\n",
      "nydebo\n",
      "nydeob\n",
      "nydobe\n",
      "nydoeb\n",
      "nobeyd\n",
      "nobedy\n",
      "nobyed\n",
      "nobyde\n",
      "nobdey\n",
      "nobdye\n",
      "noebyd\n",
      "noebdy\n",
      "noeybd\n",
      "noeydb\n",
      "noedby\n",
      "noedyb\n",
      "noybed\n",
      "noybde\n",
      "noyebd\n",
      "noyedb\n",
      "noydbe\n",
      "noydeb\n",
      "nodbey\n",
      "nodbye\n",
      "nodeby\n",
      "nodeyb\n",
      "nodybe\n",
      "nodyeb\n",
      "ndbeyo\n",
      "ndbeoy\n",
      "ndbyeo\n",
      "ndbyoe\n",
      "ndboey\n",
      "ndboye\n",
      "ndebyo\n",
      "ndeboy\n",
      "ndeybo\n",
      "ndeyob\n",
      "ndeoby\n",
      "ndeoyb\n",
      "ndybeo\n",
      "ndyboe\n",
      "ndyebo\n",
      "ndyeob\n",
      "ndyobe\n",
      "ndyoeb\n",
      "ndobey\n",
      "ndobye\n",
      "ndoeby\n",
      "ndoeyb\n",
      "ndoybe\n",
      "ndoyeb\n",
      "dbeyon\n",
      "dbeyno\n",
      "dbeoyn\n",
      "dbeony\n",
      "dbenyo\n",
      "dbenoy\n",
      "dbyeon\n",
      "dbyeno\n",
      "dbyoen\n",
      "dbyone\n",
      "dbyneo\n",
      "dbynoe\n",
      "dboeyn\n",
      "dboeny\n",
      "dboyen\n",
      "dboyne\n",
      "dboney\n",
      "dbonye\n",
      "dbneyo\n",
      "dbneoy\n",
      "dbnyeo\n",
      "dbnyoe\n",
      "dbnoey\n",
      "dbnoye\n",
      "debyon\n",
      "debyno\n",
      "deboyn\n",
      "debony\n",
      "debnyo\n",
      "debnoy\n",
      "deybon\n",
      "deybno\n",
      "deyobn\n",
      "deyonb\n",
      "deynbo\n",
      "deynob\n",
      "deobyn\n",
      "deobny\n",
      "deoybn\n",
      "deoynb\n",
      "deonby\n",
      "deonyb\n",
      "denbyo\n",
      "denboy\n",
      "denybo\n",
      "denyob\n",
      "denoby\n",
      "denoyb\n",
      "dybeon\n",
      "dybeno\n",
      "dyboen\n",
      "dybone\n",
      "dybneo\n",
      "dybnoe\n",
      "dyebon\n",
      "dyebno\n",
      "dyeobn\n",
      "dyeonb\n",
      "dyenbo\n",
      "dyenob\n",
      "dyoben\n",
      "dyobne\n",
      "dyoebn\n",
      "dyoenb\n",
      "dyonbe\n",
      "dyoneb\n",
      "dynbeo\n",
      "dynboe\n",
      "dynebo\n",
      "dyneob\n",
      "dynobe\n",
      "dynoeb\n",
      "dobeyn\n",
      "dobeny\n",
      "dobyen\n",
      "dobyne\n",
      "dobney\n",
      "dobnye\n",
      "doebyn\n",
      "doebny\n",
      "doeybn\n",
      "doeynb\n",
      "doenby\n",
      "doenyb\n",
      "doyben\n",
      "doybne\n",
      "doyebn\n",
      "doyenb\n",
      "doynbe\n",
      "doyneb\n",
      "donbey\n",
      "donbye\n",
      "doneby\n",
      "doneyb\n",
      "donybe\n",
      "donyeb\n",
      "dnbeyo\n",
      "dnbeoy\n",
      "dnbyeo\n",
      "dnbyoe\n",
      "dnboey\n",
      "dnboye\n",
      "dnebyo\n",
      "dneboy\n",
      "dneybo\n",
      "dneyob\n",
      "dneoby\n",
      "dneoyb\n",
      "dnybeo\n",
      "dnyboe\n",
      "dnyebo\n",
      "dnyeob\n",
      "dnyobe\n",
      "dnyoeb\n",
      "dnobey\n",
      "dnobye\n",
      "dnoeby\n",
      "dnoeyb\n",
      "dnoybe\n",
      "dnoyeb\n"
     ]
    }
   ],
   "source": [
    "from itertools import permutations\n",
    "\n",
    "def find_permutations(string):\n",
    "    p = permutations(string)\n",
    "    p = [''.join(p) for p in p]\n",
    "\n",
    "    return p\n",
    "\n",
    "\n",
    "in_string = input(\"Enter a string: \")\n",
    "print(f\"All permutations of the {in_string} :\")\n",
    "for i in find_permutations(in_string):\n",
    "    print(i)"
   ]
  },
  {
   "attachments": {},
   "cell_type": "markdown",
   "metadata": {},
   "source": [
    "14. Implement a function to calculate the Fibonacci sequence up to a given number of terms."
   ]
  },
  {
   "cell_type": "code",
   "execution_count": 16,
   "metadata": {},
   "outputs": [
    {
     "name": "stdout",
     "output_type": "stream",
     "text": [
      "fibonacci sequence upto 7 terms : [0, 1, 1, 2, 3, 5, 8]\n"
     ]
    }
   ],
   "source": [
    "def fibonacci_sequence(number):\n",
    "    if number <= 0:\n",
    "        return[]\n",
    "    s=[0,1]\n",
    "    while len(s) < number:\n",
    "        temp = s[-1] + s[-2]\n",
    "        s.append(temp)\n",
    "    return s\n",
    "in_number=int(input(\"enter a number of terms :\"))\n",
    "print(f\"fibonacci sequence upto {in_number} terms : {fibonacci_sequence(in_number)}\")"
   ]
  },
  {
   "attachments": {},
   "cell_type": "markdown",
   "metadata": {},
   "source": [
    "15. Write a program to find the median of a list of numbers."
   ]
  },
  {
   "cell_type": "code",
   "execution_count": 17,
   "metadata": {},
   "outputs": [
    {
     "name": "stdout",
     "output_type": "stream",
     "text": [
      "Median of the list: 54.0\n"
     ]
    }
   ],
   "source": [
    "def find_median(numbers):\n",
    "    sorted_numbers = sorted(numbers)\n",
    "    mid_index = len(sorted_numbers) // 2\n",
    "   \n",
    "    if len(sorted_numbers) % 2 == 1:\n",
    "        median = sorted_numbers[mid_index]\n",
    "    else:\n",
    "        median = (sorted_numbers[mid_index - 1] + sorted_numbers[mid_index]) / 2\n",
    "\n",
    "    return median\n",
    " \n",
    "in_list = [float(val) for val in input(\"Enter a list of numbers separated by comma(,): \").split(\",\")]\n",
    "median = find_median(in_list)\n",
    "print(\"Median of the list:\", median)"
   ]
  },
  {
   "attachments": {},
   "cell_type": "markdown",
   "metadata": {},
   "source": [
    "16. Implement a function to check if a given list is sorted in non-decreasing order."
   ]
  },
  {
   "cell_type": "code",
   "execution_count": 20,
   "metadata": {},
   "outputs": [
    {
     "name": "stdout",
     "output_type": "stream",
     "text": [
      "[10.0, 27.0, 42.0, 63.0, 45.0, 88.0, 79.0, 70.0] is not sorted in non-decreasing order\n"
     ]
    }
   ],
   "source": [
    "def is_sorted(lst):\n",
    "    if len(lst) <= 1:\n",
    "        return True\n",
    "    \n",
    "    for i in range(len(lst)):\n",
    "        if lst[i]>lst[i+1]:\n",
    "            return False\n",
    "\n",
    "    return True\n",
    "        \n",
    "in_list = [float(val) for val in input(\"Enter a list of numbers separated by comma(,)): \").split(\",\")]\n",
    "if is_sorted(in_list):\n",
    "    print(f\"{in_list} is sorted in non-decreasing order\")\n",
    "else:\n",
    "    print(f\"{in_list} is not sorted in non-decreasing order\")"
   ]
  },
  {
   "attachments": {},
   "cell_type": "markdown",
   "metadata": {},
   "source": [
    "17. Write a Python program to find the intersection of two lists."
   ]
  },
  {
   "cell_type": "code",
   "execution_count": 23,
   "metadata": {},
   "outputs": [
    {
     "name": "stdout",
     "output_type": "stream",
     "text": [
      "intersection of ['1', '23', '34', '45', '47', '57', '15', '45'] and ['25', '36', '47', '45', '35', '38', '69', '21'] is :\n",
      "\t\t['45', '47']\n"
     ]
    }
   ],
   "source": [
    "def find_intersection(lst1,lst2):\n",
    "    l=[]\n",
    "    for i in lst1:\n",
    "        if i in lst2 and i not in l:\n",
    "            l.append(i)\n",
    "    return l\n",
    "in_list1 = input(\"Enter 1st list of numbers separated by comma(,)): \").split(\",\")\n",
    "in_list2 = input(\"Enter 2nd list of numbers separated by comma(,)): \").split(\",\")\n",
    "print(f\"intersection of {in_list1} and {in_list2} is :\\n\\t\\t{find_intersection(in_list1,in_list2)}\")"
   ]
  },
  {
   "attachments": {},
   "cell_type": "markdown",
   "metadata": {},
   "source": [
    "18. Implement a function to find the maximum subarray sum in a given list."
   ]
  },
  {
   "cell_type": "code",
   "execution_count": 24,
   "metadata": {},
   "outputs": [
    {
     "name": "stdout",
     "output_type": "stream",
     "text": [
      "Maximum subarray sum: 384\n"
     ]
    }
   ],
   "source": [
    "def max_subarray_sum(nums):\n",
    "    max_sum = float('-inf') \n",
    "    current_sum = 0\n",
    "\n",
    "    for num in nums:\n",
    "        current_sum += num\n",
    "        \n",
    "        if current_sum < 0:\n",
    "            current_sum = 0\n",
    "\n",
    "        if current_sum > max_sum:\n",
    "            max_sum = current_sum\n",
    "\n",
    "    return max_sum\n",
    "\n",
    "in_list = [int(val) for val in input(\"Enter elements to list :\").split(\",\")]\n",
    " \n",
    "print(\"Maximum subarray sum:\", max_subarray_sum(in_list))"
   ]
  },
  {
   "attachments": {},
   "cell_type": "markdown",
   "metadata": {},
   "source": [
    "19. Write a program to remove all vowels from a given string."
   ]
  },
  {
   "cell_type": "code",
   "execution_count": 25,
   "metadata": {},
   "outputs": [
    {
     "name": "stdout",
     "output_type": "stream",
     "text": [
      "After removing vowels from interrupt : ntrrpt\n"
     ]
    }
   ],
   "source": [
    "def remove_vowels(str):\n",
    "    vowels=\"aeiou\"\n",
    "    result=\"\"\n",
    "    for i in str.lower():\n",
    "        if i not in vowels:\n",
    "            result += i\n",
    "    return result\n",
    "\n",
    "in_str=input(\"Enter a string for removing vowels : \")\n",
    "print(f\"After removing vowels from {in_str} : {remove_vowels(in_str)}\")"
   ]
  },
  {
   "attachments": {},
   "cell_type": "markdown",
   "metadata": {},
   "source": [
    "20. Implement a function to reverse the order of words in a given sentence."
   ]
  },
  {
   "cell_type": "code",
   "execution_count": 26,
   "metadata": {},
   "outputs": [
    {
     "name": "stdout",
     "output_type": "stream",
     "text": [
      "Reverse of 'They ensure for fair benefits' is 'benefits fair for ensure They'\n"
     ]
    }
   ],
   "source": [
    "def rev_sentence(sentence):\n",
    "    words = sentence.split()\n",
    "    reversed_words = words[::-1]\n",
    "    reversed_sentence = \" \".join(reversed_words)\n",
    "    return reversed_sentence\n",
    "in_sentence = input(\"Enter a sentence : \")\n",
    "print(f\"Reverse of '{in_sentence}' is '{rev_sentence(in_sentence)}'\")"
   ]
  },
  {
   "attachments": {},
   "cell_type": "markdown",
   "metadata": {},
   "source": [
    "21. Write a Python program to check if two strings are anagrams of each other."
   ]
  },
  {
   "cell_type": "code",
   "execution_count": 30,
   "metadata": {},
   "outputs": [
    {
     "name": "stdout",
     "output_type": "stream",
     "text": [
      "elegant and gentle are not anagram of each other\n"
     ]
    }
   ],
   "source": [
    "def is_anagram(string1,string2):\n",
    "    string1 = string1.lower().replace(\" \",\"\")\n",
    "    string2 = string2.lower().replace(\" \",\"\")\n",
    "    \n",
    "    if len(string1) != len(string2):\n",
    "        return False\n",
    "    f1={}\n",
    "    f2={}\n",
    "    \n",
    "    for i in string1:\n",
    "        f1[i] = f1.get(i, 0) + 1\n",
    "    for i in string2:\n",
    "        f2[i] = f2.get(i, 0) + 1\n",
    "    \n",
    "    return f1 == f2\n",
    "in_string1 = input(\"Enter first string :\")\n",
    "in_string2 = input(\"Enter second string :\")\n",
    "if is_anagram(in_string1,in_string2):\n",
    "    print(f\"{in_string1} and {in_string2} are anagram of each other\")\n",
    "else:\n",
    "    print(f\"{in_string1} and {in_string2} are not anagram of each other\")"
   ]
  },
  {
   "attachments": {},
   "cell_type": "markdown",
   "metadata": {},
   "source": [
    "22. Implement a function to find the first non-repeating character in a string."
   ]
  },
  {
   "cell_type": "code",
   "execution_count": 31,
   "metadata": {},
   "outputs": [
    {
     "name": "stdout",
     "output_type": "stream",
     "text": [
      "First non-repeating character of assure is a\n"
     ]
    }
   ],
   "source": [
    "def first_nonrepeat_char(str):\n",
    "    for i in str:\n",
    "        if str.count(i) == 1:\n",
    "            return i\n",
    "    \n",
    "in_string=input(\"Enter a string : \")\n",
    "\n",
    "print(f\"First non-repeating character of {in_string} is {first_nonrepeat_char(in_string)}\")"
   ]
  },
  {
   "attachments": {},
   "cell_type": "markdown",
   "metadata": {},
   "source": [
    "23. Write a program to find the prime factors of a given number."
   ]
  },
  {
   "cell_type": "code",
   "execution_count": 32,
   "metadata": {},
   "outputs": [
    {
     "name": "stdout",
     "output_type": "stream",
     "text": [
      "The prime factors of 21 is [3, 7]\n"
     ]
    }
   ],
   "source": [
    "def find_prime_factors(num):\n",
    "    factors = []\n",
    "    divisor = 2\n",
    "    while divisor <= num:\n",
    "        if num % divisor == 0:\n",
    "            factors.append(divisor)\n",
    "            num = num / divisor\n",
    "        else:\n",
    "            divisor += 1\n",
    "    return factors\n",
    "in_number = int(input(\"Enter the number : \"))\n",
    "print(f\"The prime factors of {in_number} is {find_prime_factors(in_number)}\")"
   ]
  },
  {
   "attachments": {},
   "cell_type": "markdown",
   "metadata": {},
   "source": [
    "24. Implement a function to check if a given number is a power of two."
   ]
  },
  {
   "cell_type": "code",
   "execution_count": 33,
   "metadata": {},
   "outputs": [
    {
     "name": "stdout",
     "output_type": "stream",
     "text": [
      "54 is not a power of two\n"
     ]
    }
   ],
   "source": [
    "def is_power_of_two(num):\n",
    "    if num <= 0:\n",
    "        return False\n",
    "    \n",
    "    while num > 1:\n",
    "        if num % 2 != 0:\n",
    "            return False\n",
    "        num = num // 2\n",
    "    return True\n",
    "\n",
    "input_number = int(input(\"Enter a number : \"))\n",
    "\n",
    "if is_power_of_two(input_number):\n",
    "    print(input_number, \"is a power of two\")\n",
    "else:\n",
    "    print(input_number, \"is not a power of two\")"
   ]
  },
  {
   "attachments": {},
   "cell_type": "markdown",
   "metadata": {},
   "source": [
    "25. Write a Python program to merge two sorted lists into a single sorted list."
   ]
  },
  {
   "cell_type": "code",
   "execution_count": 38,
   "metadata": {},
   "outputs": [
    {
     "name": "stdout",
     "output_type": "stream",
     "text": [
      "Merged and sorted list: [1.0, 1.0, 4.0, 25.0, 27.0, 35.0, 42.0, 43.0, 46.0, 51.0, 64.0, 64.0, 68.0, 75.0, 84.0, 95.0]\n"
     ]
    }
   ],
   "source": [
    "def merge_sorted_lists(list1, list2):\n",
    "    merged_list = []\n",
    "    i = j = 0\n",
    "\n",
    "    # Iterate over the lists until one of them is fully traversed\n",
    "    while i < len(list1) and j < len(list2):\n",
    "        if list1[i] <= list2[j]:\n",
    "            merged_list.append(list1[i])\n",
    "            i += 1\n",
    "        else:\n",
    "            merged_list.append(list2[j])\n",
    "            j += 1\n",
    "\n",
    "    # Append the remaining elements of the first list, if any\n",
    "    while i < len(list1):\n",
    "        merged_list.append(list1[i])\n",
    "        i += 1\n",
    "\n",
    "    # Append the remaining elements of the second list, if any\n",
    "    while j < len(list2):\n",
    "        merged_list.append(list2[j])\n",
    "        j += 1\n",
    "\n",
    "    return sorted(merged_list)\n",
    "\n",
    "\n",
    "\n",
    "list1 = [float(val) for val in input(\"Enter elements of list1 separated by comma(,): \").split(\",\")]\n",
    "list2 = [float(val) for val in input(\"Enter elements of list2 separated by comma(,): \").split(\",\")]\n",
    "result = merge_sorted_lists(list1, list2)\n",
    "print(\"Merged and sorted list:\", result)"
   ]
  },
  {
   "attachments": {},
   "cell_type": "markdown",
   "metadata": {},
   "source": [
    "26. Implement a function to find the mode of a list of numbers."
   ]
  },
  {
   "cell_type": "code",
   "execution_count": 41,
   "metadata": {},
   "outputs": [
    {
     "name": "stdout",
     "output_type": "stream",
     "text": [
      "Mode in list [25.0, 27.0, 35.0, 42.0, 43.0, 25.0] is [25.0]\n"
     ]
    }
   ],
   "source": [
    "def mode_list(lst):\n",
    "    d={}\n",
    "    for i in lst:\n",
    "        d[i] = lst.count(i)\n",
    "    mode = [key for key,val in d.items() if val == max(d.values())]\n",
    "    return mode\n",
    "\n",
    "in_list = [float(val) for val in input(\"Enter elements of list : \").split(',')]\n",
    "print(f\"Mode in list {in_list} is {mode_list(in_list)}\")"
   ]
  },
  {
   "attachments": {},
   "cell_type": "markdown",
   "metadata": {},
   "source": [
    "27. Write a program to find the greatest common divisor (GCD) of two numbers."
   ]
  },
  {
   "cell_type": "code",
   "execution_count": 44,
   "metadata": {},
   "outputs": [
    {
     "name": "stdout",
     "output_type": "stream",
     "text": [
      "Greatest common divisor between 27 and 33 is 3\n"
     ]
    }
   ],
   "source": [
    "def find_gcd(num1,num2):\n",
    "    while num2 != 0:\n",
    "        num1,num2 = num2,num1 % num2\n",
    "    return num1\n",
    "\n",
    "in_num1=int(input(\"Enter 1st number : \"))\n",
    "in_num2=int(input(\"Enter 2nd number : \"))\n",
    "print(f\"Greatest common divisor between {in_num1} and {in_num2} is {find_gcd(in_num1,in_num2)}\")"
   ]
  },
  {
   "attachments": {},
   "cell_type": "markdown",
   "metadata": {},
   "source": [
    "28. Implement a function to calculate the square root of a given number."
   ]
  },
  {
   "cell_type": "code",
   "execution_count": 45,
   "metadata": {},
   "outputs": [
    {
     "name": "stdout",
     "output_type": "stream",
     "text": [
      "Square root of 144.0 is 12.0\n"
     ]
    }
   ],
   "source": [
    "def sqrt(num):\n",
    "    if num < 0:\n",
    "        return \"Invalid number to find square root\"\n",
    "    s = num ** 0.5\n",
    "    return s\n",
    "in_num = float(input(\"Enter a number to find square root : \"))\n",
    "print(f\"Square root of {in_num} is {round(sqrt(in_num),2)}\")"
   ]
  },
  {
   "attachments": {},
   "cell_type": "markdown",
   "metadata": {},
   "source": [
    "29. Write a Python program to check if a given string is a valid palindrome ignoring non-alphanumeric characters."
   ]
  },
  {
   "cell_type": "code",
   "execution_count": 46,
   "metadata": {},
   "outputs": [
    {
     "name": "stdout",
     "output_type": "stream",
     "text": [
      "engine is not a valid palindrome.\n"
     ]
    }
   ],
   "source": [
    "import re\n",
    "\n",
    "def is_valid_palindrome(str):\n",
    "    str = re.sub(r'[^a-zA-Z0-9]', '', str)\n",
    "    \n",
    "    str = str.lower()\n",
    "    \n",
    "    return str == str[::-1]\n",
    "\n",
    "\n",
    "in_string = input(\"Enter a string : \")\n",
    "\n",
    "if is_valid_palindrome(in_string):\n",
    "    print(f\"{in_string} is a valid palindrome.\")\n",
    "else:\n",
    "    print(f\"{in_string} is not a valid palindrome.\")"
   ]
  },
  {
   "attachments": {},
   "cell_type": "markdown",
   "metadata": {},
   "source": [
    "30. Implement a function to find the minimum element in a rotated sorted list."
   ]
  },
  {
   "cell_type": "code",
   "execution_count": 49,
   "metadata": {},
   "outputs": [
    {
     "name": "stdout",
     "output_type": "stream",
     "text": [
      "Minimum element in the rotated sorted list [13.0, 24.0, 35.0, 46.0, 57.0, 68.0, 23.0, 26.0]: 23.0\n"
     ]
    }
   ],
   "source": [
    "def find_minimum(nums):\n",
    "    left = 0\n",
    "    right = len(nums) - 1\n",
    "\n",
    "    while left < right:\n",
    "        mid = left + (right - left) // 2\n",
    "\n",
    "        if nums[mid] > nums[right]:\n",
    "            left = mid + 1\n",
    "        else:\n",
    "            right = mid\n",
    "\n",
    "    return nums[left]\n",
    "\n",
    "\n",
    "rotated_list = [float(val) for val in input(\"Enter the elements of rotated list : \").split(\",\")]\n",
    "result = find_minimum(rotated_list)\n",
    "print(f\"Minimum element in the rotated sorted list {rotated_list}:\", result)"
   ]
  },
  {
   "attachments": {},
   "cell_type": "markdown",
   "metadata": {},
   "source": [
    "31. Write a program to find the sum of all even numbers in a list."
   ]
  },
  {
   "cell_type": "code",
   "execution_count": 50,
   "metadata": {},
   "outputs": [
    {
     "name": "stdout",
     "output_type": "stream",
     "text": [
      "the sum of all even numbers of [13.0, 24.0, 35.0, 46.0, 57.0, 68.0, 23.0, 26.0] is 164.0\n"
     ]
    }
   ],
   "source": [
    "def sum_even_nos(lst):\n",
    "    sum=0\n",
    "    for i in lst:\n",
    "        if i % 2 == 0:\n",
    "            sum += i\n",
    "    return sum\n",
    "in_list = [float(val) for val in input(\"Enter the elements of list : \").split(\",\")]\n",
    "print(f\"the sum of all even numbers of {in_list} is {sum_even_nos(in_list)}\")"
   ]
  },
  {
   "attachments": {},
   "cell_type": "markdown",
   "metadata": {},
   "source": [
    "32. Implement a function to calculate the power of a number using recursion."
   ]
  },
  {
   "cell_type": "code",
   "execution_count": 51,
   "metadata": {},
   "outputs": [
    {
     "name": "stdout",
     "output_type": "stream",
     "text": [
      "5 raised to the power of 8 : 390625\n"
     ]
    }
   ],
   "source": [
    "def power(base,expo):\n",
    "    if expo == 0:\n",
    "        return 1\n",
    "    elif expo > 0:\n",
    "        return base * power(base,expo-1)\n",
    "    else:\n",
    "        return 1/(base * power(base,-expo-1))\n",
    "    \n",
    "base=int(input(\"Enter base :\"))\n",
    "expo=int(input(\"Enter exponent :\"))\n",
    "print(f\"{base} raised to the power of {expo} : {power(base,expo)}\")"
   ]
  },
  {
   "attachments": {},
   "cell_type": "markdown",
   "metadata": {},
   "source": [
    "33. Write a Python program to remove duplicates from a list while preserving the order."
   ]
  },
  {
   "cell_type": "code",
   "execution_count": 54,
   "metadata": {},
   "outputs": [
    {
     "name": "stdout",
     "output_type": "stream",
     "text": [
      "Input List: [1, 2, 3, 2, 4, 1, 5, 6, 3, 5]\n",
      "List with duplicates removed:[1, 2, 3, 4, 5, 6]\n"
     ]
    }
   ],
   "source": [
    "def remove_duplicates(lst):\n",
    "    rm_lst = set()\n",
    "    result = []\n",
    "\n",
    "    for item in lst:\n",
    "        if item not in rm_lst:\n",
    "            result.append(item)\n",
    "            rm_lst.add(item)\n",
    "\n",
    "    return result\n",
    "\n",
    "\n",
    "my_list = [int(val) for val in input(\"Enter the elements of rotated list : \").split(\",\")]\n",
    "print(f\"Input List: {my_list}\\nList with duplicates removed:{remove_duplicates(my_list)}\")"
   ]
  },
  {
   "attachments": {},
   "cell_type": "markdown",
   "metadata": {},
   "source": [
    "34. Implement a function to find the longest common prefix among a list of strings."
   ]
  },
  {
   "cell_type": "code",
   "execution_count": 58,
   "metadata": {},
   "outputs": [
    {
     "name": "stdout",
     "output_type": "stream",
     "text": [
      "Longest common prefix: app\n"
     ]
    }
   ],
   "source": [
    "def longest_common_prefix(strs):\n",
    "    if not strs:\n",
    "        return \"\"\n",
    "\n",
    "    min_length = min(len(s) for s in strs)\n",
    "    prefix = \"\"\n",
    "\n",
    "    for i in range(min_length):\n",
    "        char = strs[0][i]\n",
    "\n",
    "        if all(s[i] == char for s in strs):\n",
    "            prefix += char\n",
    "        else:\n",
    "            break\n",
    "\n",
    "    return prefix\n",
    "\n",
    "string_list = [\"apple\", \"appendix\", \"application\"]\n",
    "\n",
    "print(\"Longest common prefix:\", longest_common_prefix(string_list))"
   ]
  },
  {
   "attachments": {},
   "cell_type": "markdown",
   "metadata": {},
   "source": [
    "35. Write a program to check if a given number is a perfect square."
   ]
  },
  {
   "cell_type": "code",
   "execution_count": 59,
   "metadata": {},
   "outputs": [
    {
     "name": "stdout",
     "output_type": "stream",
     "text": [
      "625 is a perfectsquare\n"
     ]
    }
   ],
   "source": [
    "def is_perfectsquare(num):\n",
    "    if num < 0:\n",
    "        return False\n",
    "    sqrt = int(num**0.5)\n",
    "    \n",
    "    return (sqrt*sqrt) == num\n",
    "\n",
    "in_number=int(input(\"Enter a number to check perfect square or not : \"))\n",
    "if is_perfectsquare(in_number):\n",
    "    print(f\"{in_number} is a perfectsquare\")\n",
    "else:\n",
    "    print(f\"{in_number} is not a perfectsquare\")"
   ]
  },
  {
   "attachments": {},
   "cell_type": "markdown",
   "metadata": {},
   "source": [
    "36. Implement a function to calculate the product of all elements in a list."
   ]
  },
  {
   "cell_type": "code",
   "execution_count": 61,
   "metadata": {},
   "outputs": [
    {
     "name": "stdout",
     "output_type": "stream",
     "text": [
      "the product of all the elements of [1, 2, 3, 2, 4, 1, 5, 6, 3, 5] is 21600\n"
     ]
    }
   ],
   "source": [
    "def product_list(lst):\n",
    "    p=1\n",
    "    for i in lst:\n",
    "        p *= i\n",
    "    return p\n",
    "in_lst=[int(val) for val in input(\"Enter elements of list separated by comma(,):\").split(\",\")]\n",
    "print(f\"the product of all the elements of {in_lst} is {product_list(in_lst)}\")"
   ]
  },
  {
   "attachments": {},
   "cell_type": "markdown",
   "metadata": {},
   "source": [
    "37. Write a Python program to reverse the order of words in a sentence while preserving the word order."
   ]
  },
  {
   "cell_type": "code",
   "execution_count": 62,
   "metadata": {},
   "outputs": [
    {
     "name": "stdout",
     "output_type": "stream",
     "text": [
      "Reversed sentence of 'It remains under maintenance' : 'maintenance under remains It'\n"
     ]
    }
   ],
   "source": [
    "def reverse_words(sentence):\n",
    "    words = sentence.split()\n",
    "    reversed_sentence = ' '.join(words[::-1])\n",
    "    return reversed_sentence\n",
    "\n",
    "\n",
    "in_sentence = input(\"Enter a sentence : \")\n",
    "print(f\"Reversed sentence of '{in_sentence}' : '{reverse_words(in_sentence)}'\")"
   ]
  },
  {
   "attachments": {},
   "cell_type": "markdown",
   "metadata": {},
   "source": [
    "38. Implement a function to find the missing number in a given list of consecutive numbers."
   ]
  },
  {
   "cell_type": "code",
   "execution_count": 67,
   "metadata": {},
   "outputs": [
    {
     "name": "stdout",
     "output_type": "stream",
     "text": [
      "Missing number in [25, 26, 28, 29] is 27\n"
     ]
    }
   ],
   "source": [
    "def find_missing_number(nums):\n",
    "    n = len(nums) + 1\n",
    "    expected_sum = (n * (nums[0] + nums[-1])) // 2\n",
    "    actual_sum = sum(nums)\n",
    "    missing_number = expected_sum - actual_sum\n",
    "    \n",
    "    return missing_number\n",
    "\n",
    "\n",
    "input_list = [int(val) for val in input(\"Enter consecutive numbers with one missing number: \").split(',')] \n",
    "print(f\"Missing number in {input_list} is {find_missing_number(input_list)}\")"
   ]
  },
  {
   "attachments": {},
   "cell_type": "markdown",
   "metadata": {},
   "source": [
    "39. Write a program to find the sum of digits of a given number."
   ]
  },
  {
   "cell_type": "code",
   "execution_count": 68,
   "metadata": {},
   "outputs": [
    {
     "name": "stdout",
     "output_type": "stream",
     "text": [
      "The sum of all the digits of 1240 : 7\n"
     ]
    }
   ],
   "source": [
    "def digit_sum(num):\n",
    "    sum=0\n",
    "    while num>0:\n",
    "        digit = num%10\n",
    "        sum += digit\n",
    "        num //= 10\n",
    "    return sum\n",
    "\n",
    "in_number=int(input(\"Enter the number : \"))\n",
    "print(f\"The sum of all the digits of {in_number} : {digit_sum(in_number)}\")    "
   ]
  },
  {
   "attachments": {},
   "cell_type": "markdown",
   "metadata": {},
   "source": [
    "40. Implement a function to check if a given string is a valid palindrome considering case sensitivity."
   ]
  },
  {
   "cell_type": "code",
   "execution_count": 69,
   "metadata": {},
   "outputs": [
    {
     "name": "stdout",
     "output_type": "stream",
     "text": [
      "eye is a valid palindrome\n"
     ]
    }
   ],
   "source": [
    "def is_palindrome(str):\n",
    "    new_str = \" \".join(char for char in str if char.isalnum())\n",
    "    return new_str == new_str[::-1]\n",
    "\n",
    "in_string = input(\"Enter a string : \")\n",
    "if is_palindrome(in_string):\n",
    "    print(f\"{in_string} is a valid palindrome\")\n",
    "else:\n",
    "    print(f\"{in_string} is not a valid palindrome\")"
   ]
  },
  {
   "attachments": {},
   "cell_type": "markdown",
   "metadata": {},
   "source": [
    "41. Write a Python program to find the smallest missing positive integer in a list."
   ]
  },
  {
   "cell_type": "code",
   "execution_count": 70,
   "metadata": {},
   "outputs": [
    {
     "name": "stdout",
     "output_type": "stream",
     "text": [
      "3\n"
     ]
    }
   ],
   "source": [
    "def find_smallest_missing_positive(nums):\n",
    "    # Move positive numbers to their correct index positions\n",
    "    n = len(nums)\n",
    "    for i in range(n):\n",
    "        while 1 <= nums[i] <= n and nums[nums[i] - 1] != nums[i]:\n",
    "            nums[nums[i] - 1], nums[i] = nums[i], nums[nums[i] - 1]\n",
    "\n",
    "    # Find the first index that does not contain the correct value\n",
    "    for i in range(n):\n",
    "        if nums[i] != i + 1:\n",
    "            return i + 1\n",
    "\n",
    "    # If all indices have the correct values, the smallest missing positive is n + 1\n",
    "    return n + 1\n",
    "\n",
    "\n",
    "print(find_smallest_missing_positive([-8,1,2,4,5]))          \n"
   ]
  },
  {
   "attachments": {},
   "cell_type": "markdown",
   "metadata": {},
   "source": [
    "42. Implement a function to find the longest palindrome substring in a given string."
   ]
  },
  {
   "cell_type": "code",
   "execution_count": 76,
   "metadata": {},
   "outputs": [
    {
     "name": "stdout",
     "output_type": "stream",
     "text": [
      "ele\n",
      "refer\n"
     ]
    }
   ],
   "source": [
    "def longest_palindrome_substring(s):\n",
    "    def expand_around_center(left, right):\n",
    "        while left >= 0 and right < len(s) and s[left] == s[right]:\n",
    "            left -= 1\n",
    "            right += 1\n",
    "        return s[left + 1:right]\n",
    "\n",
    "    longest_palindrome = \"\"\n",
    "    for i in range(len(s)):\n",
    "        # For odd-length palindromes\n",
    "        palindrome1 = expand_around_center(i, i)\n",
    "        # For even-length palindromes\n",
    "        palindrome2 = expand_around_center(i, i + 1)\n",
    "\n",
    "        if len(palindrome1) > len(longest_palindrome):\n",
    "            longest_palindrome = palindrome1\n",
    "\n",
    "        if len(palindrome2) > len(longest_palindrome):\n",
    "            longest_palindrome = palindrome2\n",
    "\n",
    "    return longest_palindrome\n",
    "\n",
    "\n",
    "print(longest_palindrome_substring(\"element\"))  \n",
    "print(longest_palindrome_substring(\"referal\"))   \n"
   ]
  },
  {
   "attachments": {},
   "cell_type": "markdown",
   "metadata": {},
   "source": [
    "43. Write a program to find the number of occurrences of a given element in a list."
   ]
  },
  {
   "cell_type": "code",
   "execution_count": 72,
   "metadata": {},
   "outputs": [
    {
     "name": "stdout",
     "output_type": "stream",
     "text": [
      "12 found in [12, 34, 56, 78, 89, 56, 34, 31, 12, 15, 12] , 3 times\n"
     ]
    }
   ],
   "source": [
    "def find_occurrence(list,num):\n",
    "    count=0\n",
    "    for i in list:\n",
    "        if i == num:\n",
    "            count += 1\n",
    "    return count\n",
    "\n",
    "in_list=[int(val) for val in input(\"Enter elements to list separated by comma(,): \").split(\",\")]\n",
    "target=int(input(\"Enter the target from list to find number of occurrence : \"))\n",
    "print(f\"{target} found in {in_list} , {find_occurrence(in_list,target)} times\")"
   ]
  },
  {
   "attachments": {},
   "cell_type": "markdown",
   "metadata": {},
   "source": [
    "44. Implement a function to check if a given number, is a perfect number."
   ]
  },
  {
   "cell_type": "code",
   "execution_count": 73,
   "metadata": {},
   "outputs": [
    {
     "name": "stdout",
     "output_type": "stream",
     "text": [
      "25 is not a perfect number\n"
     ]
    }
   ],
   "source": [
    "def is_perfect(num):\n",
    "    if num<=0:\n",
    "        return False\n",
    "    divisor_sum=0\n",
    "    for i in range(1,num):\n",
    "        if num % i == 0:\n",
    "            divisor_sum += i\n",
    "    return divisor_sum == num\n",
    "in_number = int(input(\"Enter a number : \"))\n",
    "if is_perfect(in_number):\n",
    "    print(f\"{in_number} is a perfect number\")\n",
    "else:\n",
    "    print(f\"{in_number} is not a perfect number\")"
   ]
  },
  {
   "attachments": {},
   "cell_type": "markdown",
   "metadata": {},
   "source": [
    "45. Write a Python program to remove all duplicates from a string."
   ]
  },
  {
   "cell_type": "code",
   "execution_count": 74,
   "metadata": {},
   "outputs": [
    {
     "name": "stdout",
     "output_type": "stream",
     "text": [
      "after removing duplicates from assistance : asitnce\n"
     ]
    }
   ],
   "source": [
    "def remove_duplicates(str):\n",
    "    new_str=\"\"\n",
    "    for i in str.lower():\n",
    "        if i not in new_str:\n",
    "            new_str += i\n",
    "    return new_str\n",
    "in_string=input(\"Enter a string : \")\n",
    "print(f\"after removing duplicates from {in_string} : {remove_duplicates(in_string)}\")"
   ]
  },
  {
   "attachments": {},
   "cell_type": "markdown",
   "metadata": {},
   "source": [
    "46. Implement a function to find the first missing positive"
   ]
  }
 ],
 "metadata": {
  "kernelspec": {
   "display_name": "base",
   "language": "python",
   "name": "python3"
  },
  "language_info": {
   "codemirror_mode": {
    "name": "ipython",
    "version": 3
   },
   "file_extension": ".py",
   "mimetype": "text/x-python",
   "name": "python",
   "nbconvert_exporter": "python",
   "pygments_lexer": "ipython3",
   "version": "3.10.9"
  },
  "orig_nbformat": 4
 },
 "nbformat": 4,
 "nbformat_minor": 2
}
