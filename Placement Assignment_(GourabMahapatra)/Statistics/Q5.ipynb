{
 "cells": [
  {
   "attachments": {},
   "cell_type": "markdown",
   "metadata": {},
   "source": [
    "**Q-5.** A certain city has two taxi companies: Company A has 80% of the taxis and Company B has 20% of the taxis. Company A's taxis have a 95% success rate for picking up passengers on time, while Company B's taxis have a 90% success rate. If a randomly\n",
    "selected taxi is late, what is the probability that it belongs to Company A?"
   ]
  },
  {
   "attachments": {},
   "cell_type": "markdown",
   "metadata": {},
   "source": [
    "**Ans 5:** \n",
    "\n",
    "To solve this problem, we can use Bayes' theorem. Let's define the events as follows:\n",
    "\n",
    "    A: The taxi belongs to Company A.\n",
    "    B: The taxi is late.\n",
    "\n",
    "    We are given the following probabilities:\n",
    "    P(A) = 0.8 (Company A has 80% of the taxis)\n",
    "    P(B|A) = 0.05 (Company A's taxis have a 95% success rate, so the probability of being late is 1 - 0.95 = 0.05)\n",
    "    P(B|not A) = 0.10 (Company B's taxis have a 90% success rate, so the probability of being late is 1 - 0.90 = 0.10)\n",
    "\n",
    "    We need to calculate P(A|B), which is the probability that the taxi belongs to Company A given that it is late.\n",
    "\n",
    "    According to Bayes' theorem:\n",
    "\n",
    "    P(A|B) = (P(B|A) * P(A)) / P(B)\n",
    "\n",
    "    To calculate P(B), we can use the law of total probability:\n",
    "\n",
    "    P(B) = P(B|A) * P(A) + P(B|not A) * P(not A)\n",
    "\n",
    "    Since there are only two taxi companies, P(not A) = 1 - P(A).\n",
    "\n",
    "    Let's calculate the probabilities:\n",
    "\n",
    "    P(B) = P(B|A) * P(A) + P(B|not A) * P(not A)\n",
    "        = 0.05 * 0.8 + 0.10 * 0.2\n",
    "        = 0.04 + 0.02\n",
    "        = 0.06\n",
    "\n",
    "    Now we can calculate P(A|B):\n",
    "\n",
    "    P(A|B) = (P(B|A) * P(A)) / P(B)\n",
    "        = (0.05 * 0.8) / 0.06\n",
    "        = 0.04 / 0.06\n",
    "        = 2/3\n",
    "        ≈ 0.6667\n",
    "\n",
    "    Therefore, the probability that a randomly selected taxi is from Company A given that it is late is approximately 0.6667 or 66.67%."
   ]
  }
 ],
 "metadata": {
  "language_info": {
   "name": "python"
  },
  "orig_nbformat": 4
 },
 "nbformat": 4,
 "nbformat_minor": 2
}
