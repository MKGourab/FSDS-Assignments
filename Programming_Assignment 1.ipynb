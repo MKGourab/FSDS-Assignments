{
 "cells": [
  {
   "cell_type": "code",
   "execution_count": null,
   "id": "8e024af2",
   "metadata": {},
   "outputs": [],
   "source": [
    "1. Write a Python program to print \"Hello Python\"?"
   ]
  },
  {
   "cell_type": "code",
   "execution_count": 10,
   "id": "39beb38a",
   "metadata": {},
   "outputs": [
    {
     "name": "stdout",
     "output_type": "stream",
     "text": [
      "Hello Python\n"
     ]
    }
   ],
   "source": [
    "print(\"Hello Python\")"
   ]
  },
  {
   "cell_type": "code",
   "execution_count": null,
   "id": "80acf0f8",
   "metadata": {},
   "outputs": [],
   "source": [
    "2. Write a Python program to do arithmetical operations addition and division.?"
   ]
  },
  {
   "cell_type": "code",
   "execution_count": 9,
   "id": "2f906caa",
   "metadata": {},
   "outputs": [
    {
     "name": "stdout",
     "output_type": "stream",
     "text": [
      "Enter first number2\n",
      "Enter second number3\n",
      "Sum of two numbers=5\n",
      "Division of two numbers=0.667\n"
     ]
    }
   ],
   "source": [
    "a=int(input(\"Enter first number\"))\n",
    "b=int(input(\"Enter second number\"))\n",
    "print(\"Sum of two numbers={}\".format(a+b))\n",
    "print(\"Division of two numbers=%0.3f\"%(a/b))\n"
   ]
  },
  {
   "cell_type": "code",
   "execution_count": null,
   "id": "9fc0bd9a",
   "metadata": {},
   "outputs": [],
   "source": [
    "3. Write a Python program to find the area of a triangle?"
   ]
  },
  {
   "cell_type": "code",
   "execution_count": 11,
   "id": "c6cb3acd",
   "metadata": {},
   "outputs": [
    {
     "name": "stdout",
     "output_type": "stream",
     "text": [
      "Enter Breadth of traiangle2\n",
      "Enter height of triangle3\n",
      "Area of triangle= 3.000\n"
     ]
    }
   ],
   "source": [
    "b=float(input(\"Enter Breadth of traiangle\"))\n",
    "h=float(input(\"Enter height of triangle\"))\n",
    "area=0.5*b*h\n",
    "print(\"Area of triangle= %0.3f\"%area)"
   ]
  },
  {
   "cell_type": "code",
   "execution_count": null,
   "id": "e3b6b27c",
   "metadata": {},
   "outputs": [],
   "source": [
    "4. Write a Python program to swap two variables?"
   ]
  },
  {
   "cell_type": "code",
   "execution_count": 14,
   "id": "0f19dfe0",
   "metadata": {},
   "outputs": [
    {
     "name": "stdout",
     "output_type": "stream",
     "text": [
      "Enter first number5\n",
      "Enter second number7\n",
      "Value of first number= 7\n",
      "Value of second number= 5\n"
     ]
    }
   ],
   "source": [
    "a=int(input(\"Enter first number\"))\n",
    "b=int(input(\"Enter second number\"))\n",
    "a= a^b\n",
    "b= a^b\n",
    "a= a^b\n",
    "print(\"Value of first number=\",a)\n",
    "print(\"Value of second number=\",b)\n"
   ]
  },
  {
   "cell_type": "code",
   "execution_count": null,
   "id": "086d5b9d",
   "metadata": {},
   "outputs": [],
   "source": [
    "5. Write a Python program to generate a random number?"
   ]
  },
  {
   "cell_type": "code",
   "execution_count": 15,
   "id": "d145c113",
   "metadata": {},
   "outputs": [
    {
     "name": "stdout",
     "output_type": "stream",
     "text": [
      "84\n"
     ]
    }
   ],
   "source": [
    "import random\n",
    "print(random.randint(0,90))\n"
   ]
  }
 ],
 "metadata": {
  "kernelspec": {
   "display_name": "Python 3 (ipykernel)",
   "language": "python",
   "name": "python3"
  },
  "language_info": {
   "codemirror_mode": {
    "name": "ipython",
    "version": 3
   },
   "file_extension": ".py",
   "mimetype": "text/x-python",
   "name": "python",
   "nbconvert_exporter": "python",
   "pygments_lexer": "ipython3",
   "version": "3.9.12"
  }
 },
 "nbformat": 4,
 "nbformat_minor": 5
}
