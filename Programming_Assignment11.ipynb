{
 "cells": [
  {
   "cell_type": "code",
   "execution_count": null,
   "id": "7ec150d0",
   "metadata": {},
   "outputs": [],
   "source": [
    "1. Write a Python program to find words which are greater than given length k."
   ]
  },
  {
   "cell_type": "code",
   "execution_count": 1,
   "id": "62f9aecd",
   "metadata": {},
   "outputs": [],
   "source": [
    "l=input(\"Enter a String: \")\n",
    "k=int(input(\"Enter length of word: \"))\n",
    "for i in l.split():\n",
    "    if(len(i)>k):\n",
    "        print(i, end= \"\\n\")\n"
   ]
  },
  {
   "cell_type": "code",
   "execution_count": null,
   "id": "b066038c",
   "metadata": {},
   "outputs": [],
   "source": [
    "2. Write a Python program for removing i-th character from a string."
   ]
  },
  {
   "cell_type": "code",
   "execution_count": null,
   "id": "ffc02e7e",
   "metadata": {},
   "outputs": [],
   "source": [
    "s=input(\"Enter a String: \")\n",
    "i=int(input(\"Enter index of character: \"))\n",
    "l=list(s)\n",
    "l.pop(i)\n",
    "for j in l:\n",
    "    print(j, end=\"\")"
   ]
  },
  {
   "cell_type": "code",
   "execution_count": null,
   "id": "819388fa",
   "metadata": {},
   "outputs": [],
   "source": [
    "3. Write a Python program to split and join a string."
   ]
  },
  {
   "cell_type": "code",
   "execution_count": null,
   "id": "915a8bdf",
   "metadata": {},
   "outputs": [],
   "source": [
    "i=\"Write a Python program\"\n",
    "j=\"to split and join a string\"\n",
    "for k in i.split():\n",
    "    print(k,end = \"\\n\")\n",
    "print(i+\" \"+j)\n"
   ]
  },
  {
   "cell_type": "code",
   "execution_count": null,
   "id": "2a1e98a0",
   "metadata": {},
   "outputs": [],
   "source": [
    "4. Write a Python to check if a given string is binary string or not."
   ]
  },
  {
   "cell_type": "code",
   "execution_count": null,
   "id": "ae95cb81",
   "metadata": {},
   "outputs": [],
   "source": [
    "l=input(\"Enter a String: \")\n",
    "if(l.count('0')+l.count('1')==len(l)):\n",
    "    print(\"Binary String\")\n",
    "else:\n",
    "    print(\"Not a Binary String\")"
   ]
  },
  {
   "cell_type": "code",
   "execution_count": null,
   "id": "f78b3ace",
   "metadata": {},
   "outputs": [],
   "source": [
    "l=input(\"Enter a String: \")\n",
    "s=set(l)\n",
    "if s=={'0','1'} or s=={'0'} or s=={'1'}:\n",
    "    print(\"Binary String\")\n",
    "else:\n",
    "    print(\"Not a Binary String\")\n"
   ]
  },
  {
   "cell_type": "code",
   "execution_count": null,
   "id": "d33dc002",
   "metadata": {},
   "outputs": [],
   "source": [
    "5. Write a Python program to find uncommon words from two Strings."
   ]
  },
  {
   "cell_type": "code",
   "execution_count": null,
   "id": "accc4cce",
   "metadata": {},
   "outputs": [],
   "source": [
    "s1=input(\"Enter 1st String: \")\n",
    "s2=input(\"Enter 2nd String: \")\n",
    "lst=[]\n",
    "for i in s1.split(\" \"):\n",
    "    if i not in s2: \n",
    "        lst.append(i)\n",
    "for i in s2.split(\" \"):\n",
    "    if i not in s1: \n",
    "        lst.append(i)\n",
    "print(s1,\"\\n\",s2,\"\\n\",lst)        "
   ]
  },
  {
   "cell_type": "code",
   "execution_count": null,
   "id": "caeeae09",
   "metadata": {},
   "outputs": [],
   "source": [
    "s1=set(input(\"Enter 1st String: \").split(\" \"))\n",
    "s2=set(input(\"Enter 2nd String: \").split(\" \"))\n",
    "r=s1.symmetric_difference(s2)\n",
    "print(r)\n"
   ]
  },
  {
   "cell_type": "code",
   "execution_count": null,
   "id": "622cc9b5",
   "metadata": {},
   "outputs": [],
   "source": [
    "6. Write a Python to find all duplicate characters in string."
   ]
  },
  {
   "cell_type": "code",
   "execution_count": null,
   "id": "26c5800f",
   "metadata": {},
   "outputs": [],
   "source": [
    "s=input(\"Enter a String: \")\n",
    "lst=[]\n",
    "for i in s:\n",
    "    if s.count(i)>1 and i not in lst:\n",
    "        lst.append(i)\n",
    "print(\"Duplicate charactes available in the string are:\\n\",lst)            "
   ]
  },
  {
   "cell_type": "code",
   "execution_count": null,
   "id": "14535f03",
   "metadata": {},
   "outputs": [],
   "source": [
    "7. Write a Python Program to check if a string contains any special character."
   ]
  },
  {
   "cell_type": "code",
   "execution_count": null,
   "id": "d40f74a3",
   "metadata": {},
   "outputs": [],
   "source": [
    "import re\n",
    "s=input(\"Enter a String: \")\n",
    "r=re.findall('\\W',s)\n",
    "if len(r)==0:\n",
    "    print(\"string contains no special character\")\n",
    "else:\n",
    "    print(\"string contains the following special character(s) :\\n\",r)"
   ]
  }
 ],
 "metadata": {
  "kernelspec": {
   "display_name": "Python 3 (ipykernel)",
   "language": "python",
   "name": "python3"
  },
  "language_info": {
   "codemirror_mode": {
    "name": "ipython",
    "version": 3
   },
   "file_extension": ".py",
   "mimetype": "text/x-python",
   "name": "python",
   "nbconvert_exporter": "python",
   "pygments_lexer": "ipython3",
   "version": "3.9.13"
  }
 },
 "nbformat": 4,
 "nbformat_minor": 5
}
