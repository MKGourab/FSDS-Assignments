{
 "cells": [
  {
   "cell_type": "code",
   "execution_count": null,
   "id": "aa7ae9d6",
   "metadata": {},
   "outputs": [],
   "source": [
    "1. Write a Python Program to Add Two Matrices?"
   ]
  },
  {
   "cell_type": "code",
   "execution_count": null,
   "id": "d8696d9f",
   "metadata": {},
   "outputs": [],
   "source": [
    "def matrix_sum():    \n",
    "    \n",
    "    r1=int(input(\"Enter no of rows of 1st Matrix: \"))\n",
    "    c1=int(input(\"Enter no of column of 1st Matrix: \"))    \n",
    "    A = [[int(input(f\"Enter elements of {r1}X{c1} matrix 1:\")) for x in range (c1)] for y in range(r1)]\n",
    "    r2=int(input(\"Enter no of rows of 2nd Matrix: \"))\n",
    "    c2=int(input(\"Enter no of column of 2nd Matrix: \"))   \n",
    "    B = [[int(input(f\"Enter elements of {r2}X{c2} matrix 2:\")) for x in range (c2)] for y in range(r2)]\n",
    "    result = [[0 for x in range(c1)] for y in range(r1)]\n",
    "    print(\"Matrix A= \",A ,'\\t',\"Matrix B= \",B)   \n",
    "    if r1==r2 and c1==c2:\n",
    "        result = [[0 for x in range(c1)] for y in range(r1)]\n",
    "        for i in range(len(A)):\n",
    "            for j in range(len(A[0])):\n",
    "                result[i][j] = A[i][j] + B[i][j]\n",
    "        print(\"Resultant Matrix is:\")            \n",
    "        for r in result:\n",
    "            print(r)\n",
    "    else:\n",
    "        print(\"Matrix Addition is Not Possible\")\n",
    "\n",
    "\n",
    "\n",
    "matrix_sum()"
   ]
  },
  {
   "cell_type": "code",
   "execution_count": null,
   "id": "c85bab57",
   "metadata": {},
   "outputs": [],
   "source": [
    "2. Write a Python Program to Multiply Two Matrices?"
   ]
  },
  {
   "cell_type": "code",
   "execution_count": null,
   "id": "f4b467d6",
   "metadata": {},
   "outputs": [],
   "source": [
    "def matrix_mul():    \n",
    "    r1=int(input(\"Enter no of rows of 1st Matrix: \"))\n",
    "    c1=int(input(\"Enter no of column of 1st Matrix: \"))\n",
    "    A = [[int(input(f\"Enter elements of {r1}X{c1} matrix 1:\")) for x in range (c1)] for y in range(r1)]\n",
    "    r2=int(input(\"Enter no of rows of 2nd Matrix: \"))\n",
    "    c2=int(input(\"Enter no of column of 2nd Matrix: \"))\n",
    "    B = [[int(input(f\"Enter elements of {r2}X{c2} matrix 2:\")) for x in range (c2)] for y in range(r2)]\n",
    "    print(\"Matrix A= \",A ,'\\t',\"Matrix B= \",B)\n",
    "    if c1==r2:\n",
    "        result=[[0 for x in range (c2)] for y in range(r1)]\n",
    "        for i in range(len(A)):\n",
    "            for j in range(len(B[0])):\n",
    "                for k in range(len(B)):\n",
    "                    result[i][j] += A[i][k] * B[k][j]\n",
    "        print(\"Resultant Matrix is:\")            \n",
    "        for r in result:\n",
    "            print(r)\n",
    "    else:\n",
    "        print(\"Multiplication Not Possible\")\n",
    "\n",
    "\n",
    "matrix_mul()\n",
    "    "
   ]
  },
  {
   "cell_type": "code",
   "execution_count": null,
   "id": "3aa6d972",
   "metadata": {},
   "outputs": [],
   "source": [
    "3. Write a Python Program to Transpose a Matrix?"
   ]
  },
  {
   "cell_type": "code",
   "execution_count": null,
   "id": "86974993",
   "metadata": {},
   "outputs": [],
   "source": [
    "def matrix_transpose():\n",
    "    r=int(input(\"Enter no of rows of Matrix: \"))\n",
    "    c=int(input(\"Enter no of column of Matrix: \"))\n",
    "    A = [[int(input(f\"Enter elements of {r}X{c} matrix :\")) for x in range (c)] for y in range(r)]\n",
    "    print(A)\n",
    "    res=[[0 for k in range(r)]for l in range(c)]\n",
    "    for i in range(c):\n",
    "        for j in range(r):\n",
    "            res[i][j]=A[j][i]\n",
    "    print(res)\n",
    "matrix_transpose()"
   ]
  },
  {
   "cell_type": "code",
   "execution_count": null,
   "id": "21b78251",
   "metadata": {},
   "outputs": [],
   "source": [
    "4. Write a Python Program to Sort Words in Alphabetic Order?"
   ]
  },
  {
   "cell_type": "code",
   "execution_count": null,
   "id": "c10288d9",
   "metadata": {},
   "outputs": [],
   "source": [
    "a=input(\"Enter a word: \")\n",
    "print(sorted(a.lower()))"
   ]
  },
  {
   "cell_type": "code",
   "execution_count": null,
   "id": "90e9f301",
   "metadata": {},
   "outputs": [],
   "source": [
    "5. Write a Python Program to Remove Punctuation From a String?"
   ]
  },
  {
   "cell_type": "code",
   "execution_count": null,
   "id": "0791f808",
   "metadata": {},
   "outputs": [],
   "source": [
    "import string\n",
    "\n",
    "def remove_punctuation():\n",
    "    input_string=input(\"Enter a string\")\n",
    "    punctuations = string.punctuation\n",
    "    output_string = \"\"\n",
    "    for char in input_string:\n",
    "        if char not in punctuations:\n",
    "            output_string += char\n",
    "    return output_string\n",
    "remove_punctuation()"
   ]
  },
  {
   "cell_type": "code",
   "execution_count": null,
   "id": "2326517f",
   "metadata": {},
   "outputs": [],
   "source": []
  }
 ],
 "metadata": {
  "kernelspec": {
   "display_name": "Python 3 (ipykernel)",
   "language": "python",
   "name": "python3"
  },
  "language_info": {
   "codemirror_mode": {
    "name": "ipython",
    "version": 3
   },
   "file_extension": ".py",
   "mimetype": "text/x-python",
   "name": "python",
   "nbconvert_exporter": "python",
   "pygments_lexer": "ipython3",
   "version": "3.9.13"
  }
 },
 "nbformat": 4,
 "nbformat_minor": 5
}
