{
 "cells": [
  {
   "cell_type": "code",
   "execution_count": null,
   "id": "3832aab6",
   "metadata": {},
   "outputs": [],
   "source": [
    "1. In the below elements which of them are values or an expression? eg:- values can be integer or string and expressions will be mathematical operators.\n",
    "* ----------------->mathematical operator(multiplication)\n",
    "'hello' ----------->value(string)\n",
    "-87.8 ------------->value(float)\n",
    "-  ---------------->mathematical operator(substraction)\n",
    "/ ----------------->mathematical operator(division)\n",
    "+ ----------------->mathematical operator(addition)\n",
    "6 ----------------->value(integer)\n"
   ]
  },
  {
   "cell_type": "code",
   "execution_count": null,
   "id": "143a4586",
   "metadata": {},
   "outputs": [],
   "source": [
    "2. What is the difference between string and variable?\n",
    "Ans:string----->string is a predefined class and sequence data type in python to store string or text data.\n",
    "    variable--->variable is used to store or hold the data in program"
   ]
  },
  {
   "cell_type": "code",
   "execution_count": null,
   "id": "1aa32e6f",
   "metadata": {},
   "outputs": [],
   "source": [
    "3. Describe three different data types.\n",
    "Ans:Three fundamental Data types in python are int, float and complex.\n",
    "    int data type:  int data type is used for representing whole numbers (integral values)\n",
    "    float data type:  float data type is used for representing floating point values (decimal values)\n",
    "    complex data type: Complex number is represented by complex class. \n",
    "                       It is specified as (real part) + (imaginary part)j."
   ]
  },
  {
   "cell_type": "code",
   "execution_count": null,
   "id": "d8b9b837",
   "metadata": {},
   "outputs": [],
   "source": [
    "4. What is an expression made up of? What do all expressions do?\n",
    "Ans:Expression is a combination of operators and operands which is evaluated to a single value."
   ]
  },
  {
   "cell_type": "code",
   "execution_count": null,
   "id": "4001845c",
   "metadata": {},
   "outputs": [],
   "source": [
    "5. This assignment statements, like spam = 10. What is the difference between an expression and a statement?\n",
    "Ans:Expression consists of operators and operands and finally the result stored in a variable but in assignment statement some value assigned to a variable."
   ]
  },
  {
   "cell_type": "code",
   "execution_count": null,
   "id": "67e6c598",
   "metadata": {},
   "outputs": [],
   "source": [
    "6. After running the following code, what does the variable bacon contain?\n",
    "bacon = 22\n",
    "bacon + 1\n",
    "Ans:bacon contains value as 22"
   ]
  },
  {
   "cell_type": "code",
   "execution_count": null,
   "id": "b08cb25d",
   "metadata": {},
   "outputs": [],
   "source": [
    "7. What should the values of the following two terms be?\n",
    "Ans:'spam' + 'spamspam' --------->'spamspamspam'\n",
    "    'spam' * 3  ----------------->'spamspamspam'\n"
   ]
  },
  {
   "cell_type": "code",
   "execution_count": null,
   "id": "b8bc947f",
   "metadata": {},
   "outputs": [],
   "source": [
    "8. Why is eggs a valid variable name while 100 is invalid?\n",
    "Ans:variable name must contains alphabets,digits and underscore symbol but it must starts with alphabet or \n",
    "underscore. As eggs satisfies this condition it is a valid variable name and 100 is not."
   ]
  },
  {
   "cell_type": "code",
   "execution_count": null,
   "id": "55c9b548",
   "metadata": {},
   "outputs": [],
   "source": [
    "9. What three functions can be used to get the integer, floating-point number, or string version of a value?\n",
    "Ans:for integer version of a value ------------------------>int()\n",
    "    for floating-point number version of a value ---------->float()\n",
    "    for string version of a value ------------------------->str()"
   ]
  },
  {
   "cell_type": "code",
   "execution_count": null,
   "id": "d2d7c973",
   "metadata": {},
   "outputs": [],
   "source": [
    "10. Why does this expression cause an error? How can you fix it?\n",
    "    \n",
    "    'I have eaten ' + 99 + ' burritos.'\n",
    "    \n",
    "    concatenation can be done between string and string only.here 99 is of integer type. we can make 99 as  \n",
    "    string eithor by placing it with in single or double quote(' ',\" \") or by using str().\n",
    "    \n",
    "    we can fix it as follows,\n",
    "    \n",
    "    1)'I have eaten ' + '99' + ' burritos.'\n",
    "    \n",
    "    2)'I have eaten ' + str(99) + ' burritos.'\n"
   ]
  }
 ],
 "metadata": {
  "kernelspec": {
   "display_name": "Python 3 (ipykernel)",
   "language": "python",
   "name": "python3"
  },
  "language_info": {
   "codemirror_mode": {
    "name": "ipython",
    "version": 3
   },
   "file_extension": ".py",
   "mimetype": "text/x-python",
   "name": "python",
   "nbconvert_exporter": "python",
   "pygments_lexer": "ipython3",
   "version": "3.9.12"
  }
 },
 "nbformat": 4,
 "nbformat_minor": 5
}
