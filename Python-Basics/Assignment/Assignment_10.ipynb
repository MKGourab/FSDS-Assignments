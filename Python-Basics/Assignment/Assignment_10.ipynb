{
 "cells": [
  {
   "cell_type": "code",
   "execution_count": null,
   "id": "d0139650",
   "metadata": {},
   "outputs": [],
   "source": [
    "1. How do you distinguish between shutil.copy() and shutil.copytree()?"
   ]
  },
  {
   "cell_type": "code",
   "execution_count": null,
   "id": "3e83febf",
   "metadata": {},
   "outputs": [],
   "source": [
    "Ans: shutil.copy() method is used to copy the contents of a file from one file to another file/folder, it primary takes two \n",
    "    arguments src,dest, src represents the file to be copied where as destination refers to the file/folder to where the src \n",
    "    data should be copied, if dest is a folder name the src with exact name will be copied to the dest folder, if its a file \n",
    "    then the contents of src will be copied to dest where dest retains it name.\n",
    "\n",
    "    shutil.copytree() function is used to copy the entire contents of a folder to other folder. it also takes two arguments src \n",
    "    & dest, it copies all the content recursively and stores it in dest. the important catch here is dest must not exist prior \n",
    "    to this and it will be created during the copy operation. Permissions and times of directories are copied with \n",
    "    shutil.copystat() and individual files are copied using shutil.copy2() by default which can be modified using copy_function\n",
    "    attribute."
   ]
  },
  {
   "cell_type": "code",
   "execution_count": null,
   "id": "53d77a4c",
   "metadata": {},
   "outputs": [],
   "source": [
    "2. What function is used to rename files??"
   ]
  },
  {
   "cell_type": "code",
   "execution_count": null,
   "id": "ff8179b9",
   "metadata": {},
   "outputs": [],
   "source": [
    "Ans: os.rename() function is used to rename files or directories using a python program, this function takes two arguments src\n",
    "    and dest, src represents the name file/directory which we want to rename, whereas dest represents the new name of the \n",
    "    file/directory."
   ]
  },
  {
   "cell_type": "code",
   "execution_count": null,
   "id": "655bec5d",
   "metadata": {},
   "outputs": [],
   "source": [
    "3. What is the difference between the delete functions in the send2trash and shutil modules?"
   ]
  },
  {
   "cell_type": "code",
   "execution_count": null,
   "id": "33d61f7c",
   "metadata": {},
   "outputs": [],
   "source": [
    "Ans: Shutil module provides a funciton called as shutil.rmtree() which deletes a directory and all its contents. The other \n",
    "    functions with similar functionality are os.remove() -> removes a file, os.rmdir() removes a empty directory. The problem \n",
    "    with these functions is once a file is deleted. it will be lost permanently, if a file is deleted accidentally using these \n",
    "    methods there is no way we can recover the deleted file\n",
    "\n",
    "Where as send2trash module provides a function called send2trash.send2trash() to delete a file/directory. these methods moves \n",
    "the files/directories to trash folder instead of permanently deleting them. hence if a file/folder is deleted accidentally it \n",
    "can be still recovered from trash folder, if is deleted using the send2trash.send2trash() function. send2trash is not included \n",
    "with python standard libary like os & shutil modules. it needs to be installed explicitly using the command\n",
    "!pip install send2trash"
   ]
  },
  {
   "cell_type": "code",
   "execution_count": null,
   "id": "73758321",
   "metadata": {},
   "outputs": [],
   "source": [
    "4.ZipFile objects have a close() method just like File objects’ close() method. What ZipFile method is equivalent to File \n",
    "objects’ open() method?"
   ]
  },
  {
   "cell_type": "code",
   "execution_count": null,
   "id": "f354c9af",
   "metadata": {},
   "outputs": [],
   "source": [
    "Ans: ZipFile Module provides a method called as zipfile.ZipFile() to read and write to zipFiles. it takes arugments lile \n",
    "    filename and mode etc zipfile.ZipFile('filename', mode = 'r')"
   ]
  },
  {
   "cell_type": "code",
   "execution_count": null,
   "id": "556c1130",
   "metadata": {},
   "outputs": [],
   "source": [
    "5. Create a programme that searches a folder tree for files with a certain file extension (such as .pdf or .jpg). Copy these \n",
    "files from whatever location they are in to a new folder."
   ]
  },
  {
   "cell_type": "code",
   "execution_count": 1,
   "id": "e975c0ec",
   "metadata": {},
   "outputs": [
    {
     "name": "stdout",
     "output_type": "stream",
     "text": [
      "Copied Probability Sampling.pdf to D:\\Gourab\\iNeuron\\Documents\n"
     ]
    }
   ],
   "source": [
    "import os\n",
    "import shutil\n",
    "\n",
    "def search_copy_files(source_folder, dest_folder, extension):\n",
    "    for root, dirs, files in os.walk(source_folder):\n",
    "        for file in files:\n",
    "            if file.endswith(extension):\n",
    "                file_path = os.path.join(root, file)\n",
    "                shutil.copy(file_path, dest_folder)\n",
    "                print(f\"Copied {file} to {dest_folder}\")\n",
    "\n",
    "\n",
    "source_folder = \"D:\\Gourab\\ppt\"\n",
    "dest_folder = \"D:\\Gourab\\iNeuron\\Documents\"\n",
    "extension = '.pdf'\n",
    "search_copy_files(source_folder, dest_folder, extension)\n"
   ]
  },
  {
   "cell_type": "code",
   "execution_count": null,
   "id": "f7be5fea",
   "metadata": {},
   "outputs": [],
   "source": []
  }
 ],
 "metadata": {
  "kernelspec": {
   "display_name": "Python 3 (ipykernel)",
   "language": "python",
   "name": "python3"
  },
  "language_info": {
   "codemirror_mode": {
    "name": "ipython",
    "version": 3
   },
   "file_extension": ".py",
   "mimetype": "text/x-python",
   "name": "python",
   "nbconvert_exporter": "python",
   "pygments_lexer": "ipython3",
   "version": "3.9.13"
  }
 },
 "nbformat": 4,
 "nbformat_minor": 5
}
