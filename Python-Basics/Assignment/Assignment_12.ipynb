{
 "cells": [
  {
   "cell_type": "code",
   "execution_count": null,
   "id": "1f48b471",
   "metadata": {},
   "outputs": [],
   "source": [
    "1. In what modes should the PdfFileReader() and PdfFileWriter() File objects will be opened?"
   ]
  },
  {
   "cell_type": "code",
   "execution_count": null,
   "id": "080b00cb",
   "metadata": {},
   "outputs": [],
   "source": [
    "Ans: For PdfFileReader() file objects should be opened in rb -> read binary mode, Whereas for PdfFileWriter() file objects \n",
    "    should be opened in wb -> write binary mode."
   ]
  },
  {
   "cell_type": "code",
   "execution_count": null,
   "id": "9c0ff109",
   "metadata": {},
   "outputs": [],
   "source": [
    "2. From a PdfFileReader object, how do you get a Page object for page 5?"
   ]
  },
  {
   "cell_type": "code",
   "execution_count": null,
   "id": "fbb4c208",
   "metadata": {},
   "outputs": [],
   "source": [
    "Ans: PdfFileReader class provides a method called getPage(page_no) to get a page object."
   ]
  },
  {
   "cell_type": "code",
   "execution_count": 1,
   "id": "114737f0",
   "metadata": {},
   "outputs": [
    {
     "name": "stdout",
     "output_type": "stream",
     "text": [
      "\n"
     ]
    }
   ],
   "source": [
    "# Example Code:\n",
    "import PyPDF2 \n",
    "pdf_reader = PyPDF2.PdfReader(\"sample.pdf\")\n",
    "for page in pdf_reader.pages:\n",
    "    print(pdf_reader.pages[5])"
   ]
  },
  {
   "cell_type": "code",
   "execution_count": null,
   "id": "fba86c26",
   "metadata": {},
   "outputs": [],
   "source": [
    "3. What PdfFileReader variable stores the number of pages in the PDF document?"
   ]
  },
  {
   "cell_type": "code",
   "execution_count": null,
   "id": "8a170b3c",
   "metadata": {},
   "outputs": [],
   "source": [
    "Ans: getNumPages() method of PdfFileReader class stores the no pages in a PDF document"
   ]
  },
  {
   "cell_type": "code",
   "execution_count": null,
   "id": "29911213",
   "metadata": {},
   "outputs": [],
   "source": [
    "#Example Code:\n",
    "from PyPDF2 import PdfFileReader\n",
    "pdf_reader = PdfFileReader(file_path)\n",
    "print(pdf_reader.getNumPages()) # Prints the no of pages in a input document"
   ]
  },
  {
   "cell_type": "code",
   "execution_count": null,
   "id": "d5dc2551",
   "metadata": {},
   "outputs": [],
   "source": [
    "4. If a PdfFileReader object’s PDF is encrypted with the password swordfish, what must you do before you can obtain Page \n",
    "   objects from it?"
   ]
  },
  {
   "cell_type": "code",
   "execution_count": null,
   "id": "76990e4e",
   "metadata": {},
   "outputs": [],
   "source": [
    "Ans: If a PdfFileReader object’s PDF is encrypted with the password swordfish and you're not aware of it. first read the Pdf \n",
    "    using the PdfFileReader Class. PdfFileReader class provides a attribute called isEncrypted to check whether a pdf is \n",
    "    encrypted or not. the method returns true if a pdf is encrypted and vice versa.\n",
    "    if pdf is encrypted use the decrypt() method provided by PdfFileReader class first then try to read the contents/pages of \n",
    "    the pdf, else PyPDF2 will raise the following error PyPDF2.utils.PdfReadError: file has not been decrypted"
   ]
  },
  {
   "cell_type": "code",
   "execution_count": null,
   "id": "0452b78f",
   "metadata": {},
   "outputs": [],
   "source": [
    "5. What methods do you use to rotate a page?"
   ]
  },
  {
   "cell_type": "code",
   "execution_count": null,
   "id": "6659703d",
   "metadata": {},
   "outputs": [],
   "source": [
    "Ans: PyPDF2 Package provides 2 methods to rotate a page:\n",
    "    rotateClockWise() -> For Clockwise rotation\n",
    "    rotateCounterClockWise() -> For Counter Clockwise rotation\n",
    "    The PyPDF2 package only allows you to rotate a page in increments of 90 degrees. You will receive an AssertionError \n",
    "    otherwise."
   ]
  },
  {
   "cell_type": "code",
   "execution_count": null,
   "id": "6ba97856",
   "metadata": {},
   "outputs": [],
   "source": [
    "6. What is the difference between a Run object and a Paragraph object?"
   ]
  },
  {
   "cell_type": "code",
   "execution_count": null,
   "id": "4a49c163",
   "metadata": {},
   "outputs": [],
   "source": [
    "Ans: The structure of a document is represented by three different data types in python-Docx. At the highest level, a Document \n",
    "    object represents the entire document. The Document object contains a list of Paragraph objects for the paragraphs in the\n",
    "    document. (A new paragraph begins whenever the user presses ENTER or RETURN while typing in a Word document.) Each of these\n",
    "    Paragraph objects contains a list of one or more Run objects.\n",
    "\n",
    "    The text in a Word document is more than just a string. It has font, size, color, and other styling information associated \n",
    "    with it. A style in Word is a collection of these attributes. A Run object is a contiguous run of text with the same style.\n",
    "    A new Run object is needed whenever the text style changes."
   ]
  },
  {
   "cell_type": "code",
   "execution_count": null,
   "id": "8d2d332b",
   "metadata": {},
   "outputs": [],
   "source": [
    "7. How do you obtain a list of Paragraph objects for a Document object that’s stored in a variable named doc?"
   ]
  },
  {
   "cell_type": "code",
   "execution_count": null,
   "id": "45bd0068",
   "metadata": {},
   "outputs": [],
   "source": [
    "# Example Program\n",
    "from docx import Document\n",
    "doc = Document(\"sample_file.docx\") # Path of the Docx file\n",
    "print(doc.paragraphs) # Prints the list of Paragraph objects for a Document\n",
    "for paragraph in doc.paragraphs:\n",
    "    print(paragraph.text) # Prints the text in the paragraph"
   ]
  },
  {
   "cell_type": "code",
   "execution_count": null,
   "id": "f1bbdeb0",
   "metadata": {},
   "outputs": [],
   "source": [
    "8. What type of object has bold, underline, italic, strike, and outline variables?"
   ]
  },
  {
   "cell_type": "code",
   "execution_count": null,
   "id": "856f75f8",
   "metadata": {},
   "outputs": [],
   "source": [
    "Ans: Run object has bold, underline, italic, strike, and outline variables. The text in a Word document is more than just a \n",
    "    string. It has font, size, color, and other styling information associated with it.\n",
    "\n",
    "    A style in Word is a collection of these attributes. A Run object is a contiguous run of text with the same style. A new \n",
    "    Run object is needed whenever the text style changes."
   ]
  },
  {
   "cell_type": "code",
   "execution_count": null,
   "id": "012fae48",
   "metadata": {},
   "outputs": [],
   "source": [
    "9. What is the difference between False, True, and None for the bold variable?"
   ]
  },
  {
   "cell_type": "code",
   "execution_count": null,
   "id": "9e9b266b",
   "metadata": {},
   "outputs": [],
   "source": [
    "bold = True  # Style Set to Bold\n",
    "bold = False # Style Not Set to Bold\n",
    "bold = None # Style is Not Applicable"
   ]
  },
  {
   "cell_type": "code",
   "execution_count": null,
   "id": "6ed7670b",
   "metadata": {},
   "outputs": [],
   "source": [
    "10. How do you create a Document object for a new Word document?"
   ]
  },
  {
   "cell_type": "code",
   "execution_count": 4,
   "id": "6b3e9984",
   "metadata": {},
   "outputs": [],
   "source": [
    "# Example Program\n",
    "from docx import Document\n",
    "document = Document()\n",
    "document.add_paragraph(\"iNeuron Full Stack DataScience Course\")\n",
    "document.save('mydocument.docx')"
   ]
  },
  {
   "cell_type": "code",
   "execution_count": null,
   "id": "9bf4de59",
   "metadata": {},
   "outputs": [],
   "source": [
    "11. How do you add a paragraph with the text 'Hello, there!' to a Document object stored in a variable named doc?"
   ]
  },
  {
   "cell_type": "code",
   "execution_count": 5,
   "id": "b2714c6c",
   "metadata": {},
   "outputs": [],
   "source": [
    "# Example Program\n",
    "from docx import Document\n",
    "doc = Document()\n",
    "doc.add_paragraph('Hello, there!')\n",
    "doc.save('hello.docx')"
   ]
  },
  {
   "cell_type": "code",
   "execution_count": null,
   "id": "83502a9a",
   "metadata": {},
   "outputs": [],
   "source": [
    "12. What integers represent the levels of headings available in Word documents?"
   ]
  },
  {
   "cell_type": "code",
   "execution_count": null,
   "id": "2eb93041",
   "metadata": {},
   "outputs": [],
   "source": [
    "Ans: The levels for a heading in a word document can be specified by using the level attribute inside the add_heading method. \n",
    "    There are a total of 5 levels statring for 0 t0 4. where level 0 makes a headline with the horizontal line below the text,\n",
    "    whereas the heading level 1 is the main heading. Similarly, the other headings are sub-heading with their font-sizes in \n",
    "    decreasing order."
   ]
  }
 ],
 "metadata": {
  "kernelspec": {
   "display_name": "Python 3 (ipykernel)",
   "language": "python",
   "name": "python3"
  },
  "language_info": {
   "codemirror_mode": {
    "name": "ipython",
    "version": 3
   },
   "file_extension": ".py",
   "mimetype": "text/x-python",
   "name": "python",
   "nbconvert_exporter": "python",
   "pygments_lexer": "ipython3",
   "version": "3.9.13"
  }
 },
 "nbformat": 4,
 "nbformat_minor": 5
}
