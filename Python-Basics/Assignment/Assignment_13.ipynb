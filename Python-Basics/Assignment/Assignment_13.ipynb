{
 "cells": [
  {
   "cell_type": "code",
   "execution_count": null,
   "id": "2225ca19",
   "metadata": {},
   "outputs": [],
   "source": [
    "1. What advantages do Excel spreadsheets have over CSV spreadsheets?"
   ]
  },
  {
   "cell_type": "code",
   "execution_count": null,
   "id": "c27ffc28",
   "metadata": {},
   "outputs": [],
   "source": [
    "Ans: The Advantages of Excel over CSV are:\n",
    "\n",
    "1. Excel (XLS and XLSX) file formats are better for storing and analysing complex data.\n",
    "2. An Excel not only stores data but can also do operations on the data using macros, formulas etc\n",
    "3. CSV files are plain-text files, Does not contain formatting, formulas, macros, etc. It is also known as flat files"
   ]
  },
  {
   "cell_type": "code",
   "execution_count": null,
   "id": "b58b8afc",
   "metadata": {},
   "outputs": [],
   "source": [
    "2.What do you pass to csv.reader() and csv.writer() to create reader and writer objects?"
   ]
  },
  {
   "cell_type": "code",
   "execution_count": null,
   "id": "330f4e1b",
   "metadata": {},
   "outputs": [],
   "source": [
    "import csv\n",
    "with open('text.csv','r') as file:\n",
    "    csv_file = csv.reader(file,delimiter=',')\n",
    "    for i in csv_file:\n",
    "        print(i)"
   ]
  },
  {
   "cell_type": "code",
   "execution_count": null,
   "id": "85b5cf62",
   "metadata": {},
   "outputs": [],
   "source": [
    "3. What modes do File objects for reader and writer objects need to be opened in?"
   ]
  },
  {
   "cell_type": "code",
   "execution_count": null,
   "id": "37d57464",
   "metadata": {},
   "outputs": [],
   "source": [
    "Ans: For csv.reader(iterable_file_object), the file objects needed to be opened in read mode mode='r' Whereas for \n",
    "    csv.writer(iterable_file_object) the file objects needed to be opened in write mode mode='w'"
   ]
  },
  {
   "cell_type": "code",
   "execution_count": null,
   "id": "c54ff80e",
   "metadata": {},
   "outputs": [],
   "source": [
    "4. What method takes a list argument and writes it to a CSV file?"
   ]
  },
  {
   "cell_type": "code",
   "execution_count": null,
   "id": "c9fc3a82",
   "metadata": {},
   "outputs": [],
   "source": [
    "Ans: csv.writer class provides two methods for writing to CSV. They are writerow() and writerows(). writerow() method writes \n",
    "    a single row at a time. Whereas writerows() method is used to write multiple rows at a time."
   ]
  },
  {
   "cell_type": "code",
   "execution_count": 3,
   "id": "0e0cf6db",
   "metadata": {},
   "outputs": [],
   "source": [
    "# Example Program\n",
    "import csv      \n",
    "fields = ['Name', 'Branch', 'Year', 'CGPA'] #column names \n",
    "rows = [ \n",
    "            ['Binaya', 'Mech', '4', '9.0'],  # data rows of csv file \n",
    "            ['Jitendra', 'Mech', '4', '8.9'], \n",
    "            ['Santosh', 'Mech', '4', '8']\n",
    "       ] \n",
    "with open(\"university_records.csv\", 'w') as csvfile: \n",
    "    csvwriter = csv.writer(csvfile) # creating a csv writer object \n",
    "    csvwriter.writerow(fields) # writing the fields \n",
    "    csvwriter.writerows(rows) # writing the data rows "
   ]
  },
  {
   "cell_type": "code",
   "execution_count": null,
   "id": "0a56ad87",
   "metadata": {},
   "outputs": [],
   "source": [
    "5. What do the keyword arguments delimiter and line terminator do?"
   ]
  },
  {
   "cell_type": "code",
   "execution_count": null,
   "id": "b6e020d1",
   "metadata": {},
   "outputs": [],
   "source": [
    "Ans: Lets take the example of a csv file:\n",
    "    'Name', 'Branch', 'Year', 'CGPA'\n",
    "    'Santosh', 'Mech', '4', '8'\n",
    "    'Jitendra', 'Mech', '4', '8.9'\n",
    "    Here ',' is Delimiter. We can use any Character as per our needs if required. Similarly Line Terminator comes at end of \n",
    "    line by default it is newline and can be changed accourding to Requirement."
   ]
  },
  {
   "cell_type": "code",
   "execution_count": null,
   "id": "429ee16c",
   "metadata": {},
   "outputs": [],
   "source": [
    "6. What function takes a string of JSON data and returns a Python data structure?"
   ]
  },
  {
   "cell_type": "code",
   "execution_count": null,
   "id": "72963482",
   "metadata": {},
   "outputs": [],
   "source": [
    "Ans: loads() method takes a string of JSON data and returns a Python data structure"
   ]
  },
  {
   "cell_type": "code",
   "execution_count": 1,
   "id": "3e888d02",
   "metadata": {},
   "outputs": [
    {
     "name": "stdout",
     "output_type": "stream",
     "text": [
      "{\n",
      "    \"Name\": \"Beyon Baabu\",\n",
      "    \"Qualification\": \"Bachelor of Technology\",\n",
      "    \"Stream\": \"Mechanical Engineering\"\n",
      "}\n",
      "Type of my_details_json is <class 'str'>\n",
      "{'Name': 'Beyon Baabu', 'Qualification': 'Bachelor of Technology', 'Stream': 'Mechanical Engineering'}\n",
      "Type of my_details is <class 'dict'>\n"
     ]
    }
   ],
   "source": [
    "# Example of json.loads() method\n",
    "import json\n",
    "my_details_json ='''{\n",
    "    \"Name\": \"Beyon Baabu\",\n",
    "    \"Qualification\": \"Bachelor of Technology\",\n",
    "    \"Stream\": \"Mechanical Engineering\"\n",
    "}'''\n",
    "print(my_details_json)\n",
    "print(f'Type of my_details_json is {type(my_details_json)}')\n",
    "my_details = json.loads(my_details_json)\n",
    "print(my_details)\n",
    "print(f'Type of my_details is {type(my_details)}')"
   ]
  },
  {
   "cell_type": "code",
   "execution_count": null,
   "id": "1720c60f",
   "metadata": {},
   "outputs": [],
   "source": [
    "7. What function takes a Python data structure and returns a string of JSON data?"
   ]
  },
  {
   "cell_type": "code",
   "execution_count": null,
   "id": "ff4c7849",
   "metadata": {},
   "outputs": [],
   "source": [
    "Ans: dumps() method takes a python data structure and returns a string of JSON data"
   ]
  },
  {
   "cell_type": "code",
   "execution_count": 2,
   "id": "4da5c410",
   "metadata": {},
   "outputs": [
    {
     "name": "stdout",
     "output_type": "stream",
     "text": [
      "{'Name': 'Beyon Baabu', 'Qualification': 'Bachelor of Technology', 'Stream': 'Mechanical Engineering'}\n",
      "Type of my_details is <class 'dict'>\n",
      "{\n",
      "    \"Name\": \"Beyon Baabu\",\n",
      "    \"Qualification\": \"Bachelor of Technology\",\n",
      "    \"Stream\": \"Mechanical Engineering\"\n",
      "}\n",
      "Type of my_details_json is <class 'str'>\n"
     ]
    }
   ],
   "source": [
    "# Example of json.dumps() method\n",
    "import json\n",
    "my_details = {\n",
    "    \"Name\": \"Beyon Baabu\",\n",
    "    \"Qualification\": \"Bachelor of Technology\",\n",
    "    \"Stream\": \"Mechanical Engineering\"\n",
    "}\n",
    "print(my_details)\n",
    "print(f'Type of my_details is {type(my_details)}')\n",
    "my_details_json = json.dumps(my_details, indent=4, sort_keys=True)\n",
    "print(my_details_json)\n",
    "print(f'Type of my_details_json is {type(my_details_json)}')"
   ]
  }
 ],
 "metadata": {
  "kernelspec": {
   "display_name": "Python 3 (ipykernel)",
   "language": "python",
   "name": "python3"
  },
  "language_info": {
   "codemirror_mode": {
    "name": "ipython",
    "version": 3
   },
   "file_extension": ".py",
   "mimetype": "text/x-python",
   "name": "python",
   "nbconvert_exporter": "python",
   "pygments_lexer": "ipython3",
   "version": "3.9.13"
  }
 },
 "nbformat": 4,
 "nbformat_minor": 5
}
