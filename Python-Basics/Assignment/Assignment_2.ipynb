{
 "cells": [
  {
   "cell_type": "code",
   "execution_count": null,
   "id": "7e3d9e77",
   "metadata": {},
   "outputs": [],
   "source": [
    "1.What are the two values of the Boolean data type? How do you write them?\n",
    "Ans: The two values of boolean data type are true and false.we write those values as True and False"
   ]
  },
  {
   "cell_type": "code",
   "execution_count": null,
   "id": "09eefd49",
   "metadata": {},
   "outputs": [],
   "source": [
    "2. What are the three different types of Boolean operators?\n",
    "Ans: Three different types of Boolean operators are \"and\",\"or\",\"not\""
   ]
  },
  {
   "cell_type": "code",
   "execution_count": null,
   "id": "110d5d85",
   "metadata": {},
   "outputs": [],
   "source": [
    "3. Make a list of each Boolean operator's truth tables (i.e. every possible combination of Boolean values for \n",
    "   the operator and what it evaluate ).\n",
    "Ans:\n",
    "    Truth Table for and operaotor :\n",
    "    True and True is True\n",
    "    True and False is False\n",
    "    False and True is False\n",
    "    False and False is False\n",
    "\n",
    "    Truth Table for or operaotor :\n",
    "    True or True is True\n",
    "    True or False is True\n",
    "    False or True is True\n",
    "    False or False is False\n",
    "\n",
    "    Truth Table for not operaotor :\n",
    "    True not is False False not is True"
   ]
  },
  {
   "cell_type": "code",
   "execution_count": null,
   "id": "d72176da",
   "metadata": {},
   "outputs": [],
   "source": [
    "4. What are the values of the following expressions?\n",
    "Ans:\n",
    "   (5 > 4) and (3 == 5)  ----------------------->False\n",
    "   not (5 > 4)  -------------------------------->False\n",
    "   (5 > 4) or (3 == 5)  ------------------------>True\n",
    "   not ((5 > 4) or (3 == 5)) ------------------->False\n",
    "   (True and True) and (True == False) --------->False\n",
    "   (not False) or (not True) ------------------->True\n",
    "   \n"
   ]
  },
  {
   "cell_type": "code",
   "execution_count": null,
   "id": "4f301517",
   "metadata": {},
   "outputs": [],
   "source": [
    "5. What are the six comparison operators?\n",
    "   \n",
    "Ans:Six comparison operators are \n",
    "   equality(==) \n",
    "   not equal to(!=)\n",
    "   greater than(>)\n",
    "   greater than or equal to(>=)\n",
    "   less than(<) \n",
    "   less than or equal to(<=)."
   ]
  },
  {
   "cell_type": "code",
   "execution_count": null,
   "id": "931f16fe-e047-4f12-8105-3e23bc617e3c",
   "metadata": {},
   "outputs": [],
   "source": [
    "6. How do you tell the difference between the equal to and assignment operators?Describe a condition when you would use \"==\"or \"=\"\n",
    "Ans:             equal to operator                           assignment operator\n",
    "   symbol --->     ==                                --->       =\n",
    "   purpose -->it asks a question that is the         --->it transfers the right hand side \n",
    "              right hand side value is equals            value to left hand side variable\n",
    "              to left hand side value or variable\n",
    "   output --->it provides a boolean result eithor    --->it assigns the right hand side value to      \n",
    "              True or False                              left hand side variable "
   ]
  },
  {
   "cell_type": "code",
   "execution_count": null,
   "id": "737619d9",
   "metadata": {},
   "outputs": [],
   "source": [
    "7. Identify the three blocks in this code:\n",
    "    \n",
    "    spam = 0\n",
    "    \n",
    "    if spam == 10:\n",
    "    \n",
    "    print('eggs')\n",
    "    \n",
    "    if spam > 5:\n",
    "    \n",
    "    print('bacon')\n",
    "    \n",
    "    else:\n",
    "    \n",
    "    print('ham')\n",
    "    \n",
    "    print('spam')\n",
    "    \n",
    "    print('spam')\n"
   ]
  },
  {
   "cell_type": "code",
   "execution_count": 5,
   "id": "02639866-62d8-49d8-b66f-db7966166243",
   "metadata": {},
   "outputs": [
    {
     "name": "stdout",
     "output_type": "stream",
     "text": [
      "ham\n",
      "spam\n",
      "spam\n"
     ]
    }
   ],
   "source": [
    "#Ans: \n",
    "spam = 0\n",
    "if spam == 10:\n",
    "    print('eggs')\n",
    "if spam > 5:\n",
    "    print('bacon')\n",
    "else:\n",
    "    print('ham')\n",
    "    print('spam')\n",
    "    print('spam')"
   ]
  },
  {
   "cell_type": "code",
   "execution_count": null,
   "id": "820efa9e",
   "metadata": {},
   "outputs": [],
   "source": [
    "8. Write code that prints Hello if 1 is stored in spam, prints Howdy if 2 is stored in spam, and prints Greetings! if anything else is stored in spam.\n"
   ]
  },
  {
   "cell_type": "code",
   "execution_count": 2,
   "id": "f28b5f11-10fc-4d3a-a47f-ba1bed65bfb9",
   "metadata": {},
   "outputs": [
    {
     "name": "stdin",
     "output_type": "stream",
     "text": [
      "enter value : 6\n"
     ]
    },
    {
     "name": "stdout",
     "output_type": "stream",
     "text": [
      "Greetings!\n"
     ]
    }
   ],
   "source": [
    "spam=int(input(\"enter value :\"))\n",
    "if spam==1:\n",
    "    print(\"Hello\")\n",
    "elif spam==2:\n",
    "    print(\"Howdy\")\n",
    "else:\n",
    "    print(\"Greetings!\")"
   ]
  },
  {
   "cell_type": "code",
   "execution_count": null,
   "id": "cc8807b7",
   "metadata": {},
   "outputs": [],
   "source": [
    "9.If your programme is stuck in an endless loop, what keys you’ll press?\n",
    "\n",
    "Ans:By pressing \"ctrl+c\" we can terminate the loop.We should use \"break\" keyword in programming"
   ]
  },
  {
   "cell_type": "code",
   "execution_count": null,
   "id": "0fedb2a6",
   "metadata": {},
   "outputs": [],
   "source": [
    "10. How can you tell the difference between break and continue?\n",
    "Ans:\"break\" keyword terminates the loop when certain condition is satisfied and comes out of that loop whereas \"continue\" skips that particular iteration and executes next iteration of that loop"
   ]
  },
  {
   "cell_type": "code",
   "execution_count": null,
   "id": "1fd52718",
   "metadata": {},
   "outputs": [],
   "source": [
    "11. In a for loop, what is the difference between range(10), range(0, 10), and range(0, 10, 1)? \n",
    "Ans:There is no difference in output of range(10), range(0, 10), and range(0, 10, 1)\n",
    "    range(10)----->it will give value ranges from 0(by default) to 9\n",
    "    range(0,10)----->it will give value ranges from 0(begining index given) to 9\n",
    "    range(0,10,1)----->it will give value ranges from 0(begining index given) to 9 with step 1\n",
    "    "
   ]
  },
  {
   "cell_type": "code",
   "execution_count": null,
   "id": "95fe45fd",
   "metadata": {},
   "outputs": [],
   "source": [
    "12. Write a short program that prints the numbers 1 to 10 using a for loop. Then write an equivalent program that prints the numbers 1 to 10 using a while loop.\n"
   ]
  },
  {
   "cell_type": "code",
   "execution_count": 6,
   "id": "08f87554-e895-4420-9f61-d72e14bb913d",
   "metadata": {},
   "outputs": [
    {
     "name": "stdout",
     "output_type": "stream",
     "text": [
      "numbers from 1 to 10 using for loop :\n",
      "1\n",
      "2\n",
      "3\n",
      "4\n",
      "5\n",
      "6\n",
      "7\n",
      "8\n",
      "9\n",
      "10\n",
      "numbers from 1 to 10 using while loop :\n",
      "1\n",
      "2\n",
      "3\n",
      "4\n",
      "5\n",
      "6\n",
      "7\n",
      "8\n",
      "9\n",
      "10\n"
     ]
    }
   ],
   "source": [
    "print(\"numbers from 1 to 10 using for loop :\")\n",
    "for i in range(1,11):\n",
    "    print(i)\n",
    "print(\"numbers from 1 to 10 using while loop :\")\n",
    "j=1\n",
    "while(j<=10):\n",
    "    print(j)\n",
    "    j=j+1"
   ]
  },
  {
   "cell_type": "code",
   "execution_count": null,
   "id": "b8c68f2e",
   "metadata": {},
   "outputs": [],
   "source": [
    "13. If you had a function named bacon() inside a module named spam, how would you call it after importing spam?\n",
    "Ans:from spam import bacon:"
   ]
  }
 ],
 "metadata": {
  "kernelspec": {
   "display_name": "Python 3 (ipykernel)",
   "language": "python",
   "name": "python3"
  },
  "language_info": {
   "codemirror_mode": {
    "name": "ipython",
    "version": 3
   },
   "file_extension": ".py",
   "mimetype": "text/x-python",
   "name": "python",
   "nbconvert_exporter": "python",
   "pygments_lexer": "ipython3",
   "version": "3.9.12"
  }
 },
 "nbformat": 4,
 "nbformat_minor": 5
}
