{
 "cells": [
  {
   "cell_type": "code",
   "execution_count": null,
   "id": "de939cfd",
   "metadata": {},
   "outputs": [],
   "source": [
    "1. What is the result of the code, and explain?\n",
    ">>> X = 'iNeuron'\n",
    ">>> def func():\n",
    "print(X)\n",
    ">>> func()"
   ]
  },
  {
   "cell_type": "code",
   "execution_count": null,
   "id": "445a8cd3",
   "metadata": {},
   "outputs": [],
   "source": [
    "Ans: The Result of this code is iNeuron, it is because the function intially looks for the variable X in its local scope,But \n",
    "    since there is no local variable X, its returns the value of global variable x ie iNeuron"
   ]
  },
  {
   "cell_type": "code",
   "execution_count": 8,
   "id": "d0d80a32-81b3-43d7-98be-4a1207c2396d",
   "metadata": {},
   "outputs": [
    {
     "name": "stdout",
     "output_type": "stream",
     "text": [
      "iNeuron\n"
     ]
    }
   ],
   "source": [
    "X = 'iNeuron'\n",
    "def func():\n",
    "    print(X)\n",
    "func()"
   ]
  },
  {
   "cell_type": "code",
   "execution_count": null,
   "id": "76133cb9",
   "metadata": {},
   "outputs": [],
   "source": [
    "2. What is the result of the code, and explain?\n",
    ">>> X = 'iNeuron'\n",
    ">>> def func():\n",
    "X = 'NI!'\n",
    ">>> func()\n",
    ">>> print(X)"
   ]
  },
  {
   "cell_type": "code",
   "execution_count": null,
   "id": "88bf446c",
   "metadata": {},
   "outputs": [],
   "source": [
    "Ans: The Result of this code is iNeuron, because the function initially looks for the variable X in its local scope if X is not\n",
    "    available then it checks for variable X in the global scope, Since here the X is present in the local scope but function \n",
    "    does not prints it.it prints the value iNeuron outside the function"
   ]
  },
  {
   "cell_type": "code",
   "execution_count": 9,
   "id": "a6fce0cc-e0d7-4e0c-adc4-22434c1a835e",
   "metadata": {},
   "outputs": [
    {
     "name": "stdout",
     "output_type": "stream",
     "text": [
      "iNeuron\n"
     ]
    }
   ],
   "source": [
    "X = 'iNeuron'\n",
    "def func():\n",
    "    X = 'NI!'\n",
    "func()\n",
    "print(X)"
   ]
  },
  {
   "cell_type": "code",
   "execution_count": null,
   "id": "32d64c1f",
   "metadata": {},
   "outputs": [],
   "source": [
    "3. What does this code print, and why?\n",
    ">>> X = 'iNeuron'\n",
    ">>> def func():\n",
    "X = 'NI'\n",
    "print(X)\n",
    ">>> func()\n",
    ">>> print(X)"
   ]
  },
  {
   "cell_type": "code",
   "execution_count": null,
   "id": "e731cd21",
   "metadata": {},
   "outputs": [],
   "source": [
    "Ans: The output of the code is NI and iNeuron. X=NI is in the local scope of the function func() hence the function prints the \n",
    "    x value as NI. X = 'iNeuron' is in the global scope. hence print(X) prints output as iNeuron"
   ]
  },
  {
   "cell_type": "code",
   "execution_count": 10,
   "id": "10e8d7a0-1e47-483d-a86b-6824fb9b95db",
   "metadata": {},
   "outputs": [
    {
     "name": "stdout",
     "output_type": "stream",
     "text": [
      "NI\n",
      "iNeuron\n"
     ]
    }
   ],
   "source": [
    "X = 'iNeuron'\n",
    "def func():\n",
    "    X = 'NI'\n",
    "    print(X)\n",
    "func()\n",
    "print(X)"
   ]
  },
  {
   "cell_type": "code",
   "execution_count": null,
   "id": "89bf44e6",
   "metadata": {},
   "outputs": [],
   "source": [
    "4. What output does this code produce? Why?\n",
    ">>> X = 'iNeuron'\n",
    ">>> def func():\n",
    "global X\n",
    "X = 'NI'\n",
    ">>> func()\n",
    ">>> print(X)"
   ]
  },
  {
   "cell_type": "code",
   "execution_count": null,
   "id": "7fe93cd7",
   "metadata": {},
   "outputs": [],
   "source": [
    "Ans: The output of the code is NI. the global keyword allows a variable to be accessible in the current scope. since we are\n",
    "    using global keyword inside the function func it directly access the variable in X in global scope. and changes its value \n",
    "    to NI. hence the output of the code is NI"
   ]
  },
  {
   "cell_type": "code",
   "execution_count": 11,
   "id": "a961aea2-c682-4b65-a1b6-a96e2126c3fe",
   "metadata": {},
   "outputs": [
    {
     "name": "stdout",
     "output_type": "stream",
     "text": [
      "NI\n"
     ]
    }
   ],
   "source": [
    "X = 'iNeuron'\n",
    "def func():\n",
    "    global X\n",
    "    X = 'NI'\n",
    "func()\n",
    "print(X)"
   ]
  },
  {
   "cell_type": "code",
   "execution_count": null,
   "id": "06ca16b4",
   "metadata": {},
   "outputs": [],
   "source": [
    "5. What about this code—what’s the output, and why?\n",
    ">>> X = 'iNeuron'\n",
    ">>> def func():\n",
    "X = 'NI'\n",
    "def nested():\n",
    "print(X)\n",
    "nested()\n",
    ">>> func()\n",
    ">>> X\n"
   ]
  },
  {
   "cell_type": "code",
   "execution_count": null,
   "id": "e736f39c",
   "metadata": {},
   "outputs": [],
   "source": [
    "Ans: The output of the code is NI. the reason for this output is if a function wants to access a variable, if its not available \n",
    "    in its localscope. it looks for the variable in its global scope. similarly here also function nested looks for variable X\n",
    "    in its global scope. hence the output of the code is NI"
   ]
  },
  {
   "cell_type": "code",
   "execution_count": 12,
   "id": "5d6759db-863a-4cde-a0d9-b3c377aeadf0",
   "metadata": {},
   "outputs": [
    {
     "name": "stdout",
     "output_type": "stream",
     "text": [
      "NI\n"
     ]
    },
    {
     "data": {
      "text/plain": [
       "'iNeuron'"
      ]
     },
     "execution_count": 12,
     "metadata": {},
     "output_type": "execute_result"
    }
   ],
   "source": [
    "X = 'iNeuron'\n",
    "def func():\n",
    "    X = 'NI'\n",
    "    def nested():\n",
    "        print(X)\n",
    "    nested()\n",
    "func()\n",
    "X"
   ]
  },
  {
   "cell_type": "code",
   "execution_count": null,
   "id": "963e8c7b",
   "metadata": {},
   "outputs": [],
   "source": [
    "6. How about this code: what is its output in Python 3, and explain?\n",
    ">>> def func():\n",
    "X = 'NI'\n",
    "def nested():\n",
    "nonlocal X\n",
    "X = 'Spam'\n",
    "nested()\n",
    "print(X)\n",
    ">>> func()"
   ]
  },
  {
   "cell_type": "code",
   "execution_count": null,
   "id": "c7f32c94",
   "metadata": {},
   "outputs": [],
   "source": [
    "Ans: The output of the code is Spam. nonlocal keyword in python is used to declare a variable as not local. Hence the statement\n",
    "    X = \"Spam\" is modified in the global scope. hence the output of print(X) statement is Spam\n"
   ]
  },
  {
   "cell_type": "code",
   "execution_count": 13,
   "id": "203b4a2a-99e6-45a2-baa8-6f1350a12344",
   "metadata": {},
   "outputs": [
    {
     "name": "stdout",
     "output_type": "stream",
     "text": [
      "Spam\n"
     ]
    }
   ],
   "source": [
    "def func():\n",
    "    X = 'NI'\n",
    "    def nested():\n",
    "        nonlocal X\n",
    "        X = 'Spam'\n",
    "    nested()\n",
    "    print(X)\n",
    "func()"
   ]
  }
 ],
 "metadata": {
  "kernelspec": {
   "display_name": "Python 3 (ipykernel)",
   "language": "python",
   "name": "python3"
  },
  "language_info": {
   "codemirror_mode": {
    "name": "ipython",
    "version": 3
   },
   "file_extension": ".py",
   "mimetype": "text/x-python",
   "name": "python",
   "nbconvert_exporter": "python",
   "pygments_lexer": "ipython3",
   "version": "3.9.13"
  }
 },
 "nbformat": 4,
 "nbformat_minor": 5
}
