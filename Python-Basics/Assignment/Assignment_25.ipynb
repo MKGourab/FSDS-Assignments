{
 "cells": [
  {
   "cell_type": "code",
   "execution_count": null,
   "id": "bc190fe2",
   "metadata": {},
   "outputs": [],
   "source": [
    "1) What is the difference between enclosing a list comprehension in square brackets and parentheses?"
   ]
  },
  {
   "cell_type": "code",
   "execution_count": null,
   "id": "6b133c8a",
   "metadata": {},
   "outputs": [],
   "source": [
    "Ans : Enclosing a list comprehension in square brackets returns a list.but where as enclosing a list comprehension in\n",
    "    parentheses returns a generator object"
   ]
  },
  {
   "cell_type": "code",
   "execution_count": 1,
   "id": "e67ae77f-ca5c-4f1a-a88a-3792653e6075",
   "metadata": {},
   "outputs": [
    {
     "name": "stdout",
     "output_type": "stream",
     "text": [
      "[5, 6, 7, 8, 9] <class 'list'>\n",
      "<generator object <genexpr> at 0x7f3816c1b6f0> <class 'generator'>\n"
     ]
    }
   ],
   "source": [
    "lst = [val for val in range(5,10)]\n",
    "print(lst,type(lst))\n",
    "gen = (val for val in range(5,10))\n",
    "print(gen,type(gen))"
   ]
  },
  {
   "cell_type": "code",
   "execution_count": null,
   "id": "5726cbe7",
   "metadata": {},
   "outputs": [],
   "source": [
    "2) What is the relationship between generators and iterators?"
   ]
  },
  {
   "cell_type": "code",
   "execution_count": null,
   "id": "28c45a51",
   "metadata": {},
   "outputs": [],
   "source": [
    "Ans : An iterator is an object which contains a countable number of values and it is used to iterate over iterable objects like \n",
    "    list, tuples, sets, etc. Iterators are implemented using a class. It follows lazy evaluation where the evaluation of the\n",
    "    expression will be on hold and stored in the memory until the item is called specifically which helps us to avoid repeated\n",
    "    evaluation. As lazy evaluation is implemented, it requires only 1 memory location to process the value and when we are \n",
    "    using a large dataset then, wastage of RAM space will be reduced the need to load the entire dataset at the same time \n",
    "    will not be there.For an iterator: iter() keyword is used to create an iterator containing an iterable object.next() \n",
    "    keyword is used to call the next element in the iterable object.\n",
    "\n",
    "    Similarly Generators are an another way of creating iterators in a simple way where it uses the keyword yield statement \n",
    "    instead of return statement in a defined function.Generators are implemented using a function. Just as iterators, \n",
    "    generators also follow lazy evaluation. Here, the yield function returns the data without affecting or exiting the function.\n",
    "    It will return a sequence of data in an iterable format where we need to iterate over the sequence to use the data as they\n",
    "    won’t store the entire sequence in the memory."
   ]
  },
  {
   "cell_type": "code",
   "execution_count": null,
   "id": "092751f3",
   "metadata": {},
   "outputs": [],
   "source": [
    "3) What are the signs that a function is a generator function?"
   ]
  },
  {
   "cell_type": "code",
   "execution_count": null,
   "id": "dbdabf12",
   "metadata": {},
   "outputs": [],
   "source": [
    "Ans : A generator function uses a yield statement instead of a return statement. A generator function will always return a \n",
    "    iterable object called generator. where as a normal function can return a string/list/tuple/dict/NoneType ... etc"
   ]
  },
  {
   "cell_type": "code",
   "execution_count": null,
   "id": "2f305671",
   "metadata": {},
   "outputs": [],
   "source": [
    "4) What is the purpose of a yield statement?"
   ]
  },
  {
   "cell_type": "code",
   "execution_count": null,
   "id": "6898d652",
   "metadata": {},
   "outputs": [],
   "source": [
    "Ans : The yield statement suspends function’s execution and sends a value back to the caller, but retains enough state to \n",
    "    enable function to resume where it is left off. When resumed, the function continues execution immediately after the last\n",
    "    yield run. This allows its code to produce a series of values over time, rather than computing them at once and sending\n",
    "    them back like a list."
   ]
  },
  {
   "cell_type": "code",
   "execution_count": null,
   "id": "35e6874f",
   "metadata": {},
   "outputs": [],
   "source": [
    "5) What is the relationship between map calls and list comprehensions? Make a comparison and contrast between the two."
   ]
  },
  {
   "cell_type": "code",
   "execution_count": null,
   "id": "06f74b4a",
   "metadata": {},
   "outputs": [],
   "source": [
    "Ans : The main differences between map calls and list comprehensiosn are:\n",
    "\n",
    "1) List comprehension is more concise and easier to read as compared to map.\n",
    "2) List comprehension allows filtering. In map, we have no such facility. For example, to print all odd numbers in range of 50,\n",
    "    we can write [n for n in range(50) if n%2 != 0]. There is no alternate for it in map\n",
    "3) List comprehension are used when a list of results is required as final output.but map only returns a map object. it needs\n",
    "    to be explicitly coverted to desired datatype.\n",
    "4) List comprehension is faster than map when we need to evaluate expressions that are too long or complicated to express\n",
    "5) Map is faster in case of calling an already defined function on a set of values."
   ]
  }
 ],
 "metadata": {
  "kernelspec": {
   "display_name": "Python 3 (ipykernel)",
   "language": "python",
   "name": "python3"
  },
  "language_info": {
   "codemirror_mode": {
    "name": "ipython",
    "version": 3
   },
   "file_extension": ".py",
   "mimetype": "text/x-python",
   "name": "python",
   "nbconvert_exporter": "python",
   "pygments_lexer": "ipython3",
   "version": "3.9.13"
  }
 },
 "nbformat": 4,
 "nbformat_minor": 5
}
