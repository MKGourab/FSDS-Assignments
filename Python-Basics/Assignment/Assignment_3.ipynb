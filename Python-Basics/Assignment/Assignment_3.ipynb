{
 "cells": [
  {
   "cell_type": "code",
   "execution_count": null,
   "id": "2c5f7467",
   "metadata": {},
   "outputs": [],
   "source": [
    "1. Why are functions advantageous to have in your programs?\n",
    "Ans:Function is a sub program of main program which performs certain operation and provides code reusability"
   ]
  },
  {
   "cell_type": "code",
   "execution_count": null,
   "id": "cfe3f585",
   "metadata": {},
   "outputs": [],
   "source": [
    "2. When does the code in a function run: when it's specified or when it's called?\n",
    "Ans: A function runs or executes only when it's called."
   ]
  },
  {
   "cell_type": "code",
   "execution_count": null,
   "id": "2cae2380",
   "metadata": {},
   "outputs": [],
   "source": [
    "3. What statement creates a function?\n",
    "Ans: A function is defined by using the def keyword, followed by a specific name, followed by a set of parentheses which hold any formal parameters the function will take and ending with a colon(:)"
   ]
  },
  {
   "cell_type": "code",
   "execution_count": null,
   "id": "2dfe034d",
   "metadata": {},
   "outputs": [],
   "source": [
    "4. What is the difference between a function and a function call? \n",
    "Ans:function : it's the defination part where all parameters are defined and written code for certain operation\n",
    "    function call : it's the function call which actually runs the function to get the desired output"
   ]
  },
  {
   "cell_type": "code",
   "execution_count": null,
   "id": "12c9c396",
   "metadata": {},
   "outputs": [],
   "source": [
    "5. How many global scopes are there in a Python program? How many local scopes?\n",
    "Ans:Variables that are defined inside a function body have a local scope, and those defined outside have a global scope.\n",
    "   "
   ]
  },
  {
   "cell_type": "code",
   "execution_count": null,
   "id": "e8c09506",
   "metadata": {},
   "outputs": [],
   "source": [
    "6. What happens to variables in a local scope when the function call returns?\n",
    "Ans:New local variables are created during each call of function and their lifetime expires when the function returns to the caller "
   ]
  },
  {
   "cell_type": "code",
   "execution_count": null,
   "id": "40062580",
   "metadata": {},
   "outputs": [],
   "source": [
    "7. What is the concept of a return value? Is it possible to have a return value in an expression?\n",
    "Ans:return value returns a desired output value when the execution of function completes when it's called .It is possible to have a return value in an expression provided the datatype of expression must be same as return value datatype"
   ]
  },
  {
   "cell_type": "code",
   "execution_count": null,
   "id": "9db46f19",
   "metadata": {},
   "outputs": [],
   "source": [
    "8. If a function does not have a return statement, what is the return value of a call to that function?\n",
    "Ans: If a function does not have a return statement,the function call returns a void or None"
   ]
  },
  {
   "cell_type": "code",
   "execution_count": null,
   "id": "10cd5b3a",
   "metadata": {},
   "outputs": [],
   "source": [
    "9. How do you make a function variable refer to the global variable?\n",
    "Ans: To access global variables inside the function we must use global keyword"
   ]
  },
  {
   "cell_type": "code",
   "execution_count": null,
   "id": "e3289219",
   "metadata": {},
   "outputs": [],
   "source": [
    "10. What is the data type of None?\n",
    "Ans:The data type of None is NoneType"
   ]
  },
  {
   "cell_type": "code",
   "execution_count": null,
   "id": "99e2c4aa",
   "metadata": {},
   "outputs": [],
   "source": [
    "11. What does the sentence import areallyourpetsnamederic do?\n",
    "Ans:The sentence import areallyourpetsnamederic imports a module named areallyourpetsnamederic    "
   ]
  },
  {
   "cell_type": "code",
   "execution_count": null,
   "id": "9022d46a",
   "metadata": {},
   "outputs": [],
   "source": [
    "12. If you had a bacon() feature in a spam module, what would you call it after importing spam?\n",
    "Ans:This function can be called after importing spam , with spam.bacon()."
   ]
  },
  {
   "cell_type": "code",
   "execution_count": null,
   "id": "2f8c4a30",
   "metadata": {},
   "outputs": [],
   "source": [
    "13. What can you do to save a programme from crashing if it encounters an error?\n",
    "Ans:To save a programme from crashing if it encounters an error , we must use concept of exception handling.\n",
    "    That part must be in try block and corresponding user friendly message be there in except block "
   ]
  },
  {
   "cell_type": "code",
   "execution_count": null,
   "id": "027e241e",
   "metadata": {},
   "outputs": [],
   "source": [
    "14. What is the purpose of the try clause? What is the purpose of the except clause?\n",
    "Ans:purpose of the try clause : here we write block of statements generating exception or technical error\n",
    "    purpose of the except clause : every try block must be immidiately followed by at least one except block,which generates user friendly messeges"
   ]
  }
 ],
 "metadata": {
  "kernelspec": {
   "display_name": "Python 3 (ipykernel)",
   "language": "python",
   "name": "python3"
  },
  "language_info": {
   "codemirror_mode": {
    "name": "ipython",
    "version": 3
   },
   "file_extension": ".py",
   "mimetype": "text/x-python",
   "name": "python",
   "nbconvert_exporter": "python",
   "pygments_lexer": "ipython3",
   "version": "3.9.12"
  }
 },
 "nbformat": 4,
 "nbformat_minor": 5
}
