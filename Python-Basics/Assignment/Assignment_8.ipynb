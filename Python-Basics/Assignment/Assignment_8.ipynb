{
 "cells": [
  {
   "cell_type": "code",
   "execution_count": null,
   "id": "a5b3fee9",
   "metadata": {},
   "outputs": [],
   "source": [
    "1. Is the Python Standard Library included with PyInputPlus?"
   ]
  },
  {
   "cell_type": "code",
   "execution_count": null,
   "id": "313f07a4",
   "metadata": {},
   "outputs": [],
   "source": [
    "Ans: No, PyInputPlus is not a part of Python Standard Library, it needs to be installed explicitly using the command \n",
    "    !pip install PyInputPlus"
   ]
  },
  {
   "cell_type": "code",
   "execution_count": null,
   "id": "a15fd4a7",
   "metadata": {},
   "outputs": [],
   "source": [
    "2. Why is PyInputPlus commonly imported with import pyinputplus as pypi?"
   ]
  },
  {
   "cell_type": "code",
   "execution_count": null,
   "id": "99443c2d",
   "metadata": {},
   "outputs": [],
   "source": [
    "Ans: You can import the module with import pyinputplus as pyip so that you can enter a shorter name when calling the module's \n",
    "    functions."
   ]
  },
  {
   "cell_type": "code",
   "execution_count": null,
   "id": "6d8ef27f",
   "metadata": {},
   "outputs": [],
   "source": [
    "3. How do you distinguish between inputInt() and inputFloat()?"
   ]
  },
  {
   "cell_type": "code",
   "execution_count": null,
   "id": "10f932aa",
   "metadata": {},
   "outputs": [],
   "source": [
    "Ans: inputInt() function Accepts an integer value. This also takes additional parameters min, max, greaterThan and lessThan \n",
    "    for bounds. And it always returns an int.\n",
    "\n",
    "    Whereas inputFloat() function Accepts a floating-point numeric value. this also takes additional min, max, greaterThan and \n",
    "    lessThan parameters. and always returns a float."
   ]
  },
  {
   "cell_type": "code",
   "execution_count": null,
   "id": "cd32a460",
   "metadata": {},
   "outputs": [],
   "source": [
    "4. Using PyInputPlus, how do you ensure that the user enters a whole number between 0 and 99?"
   ]
  },
  {
   "cell_type": "code",
   "execution_count": null,
   "id": "88a6f940",
   "metadata": {},
   "outputs": [],
   "source": [
    "Ans: PyInputPlus module provides a function called as inputInt() which only returns only integer values. Inorder to restrict \n",
    "    the input between 0 and 99, we use parameters like min & max to ensure that user enters the values between the defined \n",
    "    range only."
   ]
  },
  {
   "cell_type": "code",
   "execution_count": 2,
   "id": "ca04c60b",
   "metadata": {},
   "outputs": [
    {
     "name": "stdout",
     "output_type": "stream",
     "text": [
      "Enter a number: 105\n",
      "Number must be at maximum 100.\n",
      "Enter a number: 90\n",
      "90\n"
     ]
    }
   ],
   "source": [
    "import pyinputplus as pyip\n",
    "wholenumber = pyip.inputInt(prompt='Enter a number: ', min=0, max=100)\n",
    "print(wholenumber)"
   ]
  },
  {
   "cell_type": "code",
   "execution_count": null,
   "id": "479ad85b",
   "metadata": {},
   "outputs": [],
   "source": [
    "5. What is transferred to the keyword arguments allowRegexes and blockRegexes?"
   ]
  },
  {
   "cell_type": "code",
   "execution_count": null,
   "id": "6039c362",
   "metadata": {},
   "outputs": [],
   "source": [
    "Ans: we can use allowRegexes and blockRegexes keyword arguments to take list of regular expression strings to determine what\n",
    "    the pyinputplus function will reject or accept valid input."
   ]
  },
  {
   "cell_type": "code",
   "execution_count": null,
   "id": "b0ddc798",
   "metadata": {},
   "outputs": [],
   "source": [
    "6. If a blank input is entered three times, what does inputStr(limit=3) do?"
   ]
  },
  {
   "cell_type": "code",
   "execution_count": null,
   "id": "dded0087",
   "metadata": {},
   "outputs": [],
   "source": [
    "Ans: The statement inputStr(limit=3) will throw two exceptions ValidationException and RetryLimitException. The first exception \n",
    "    is thrown because blank values are not allowed by inputStr() function by default. it we want to consider blank values as \n",
    "    valid input, we have to set blank=True.\n",
    "    The second exception is occured because we have reached the max limit we have specified by using limit parameter. inorder \n",
    "    to avoid this exception we can use default parameter to return a default value when max limit is reached."
   ]
  },
  {
   "cell_type": "code",
   "execution_count": null,
   "id": "c05d77cf",
   "metadata": {},
   "outputs": [],
   "source": [
    "7. If blank input is entered three times, what does inputStr(limit=3, default='hello') do?"
   ]
  },
  {
   "cell_type": "code",
   "execution_count": null,
   "id": "992f97fd",
   "metadata": {},
   "outputs": [],
   "source": [
    "Ans: Since the default parameter is set to hello. after blank input is entered three times instead of raising \n",
    "    RetryLimitException exception. the function will return hello as response to the calling function"
   ]
  }
 ],
 "metadata": {
  "kernelspec": {
   "display_name": "Python 3 (ipykernel)",
   "language": "python",
   "name": "python3"
  },
  "language_info": {
   "codemirror_mode": {
    "name": "ipython",
    "version": 3
   },
   "file_extension": ".py",
   "mimetype": "text/x-python",
   "name": "python",
   "nbconvert_exporter": "python",
   "pygments_lexer": "ipython3",
   "version": "3.9.13"
  }
 },
 "nbformat": 4,
 "nbformat_minor": 5
}
