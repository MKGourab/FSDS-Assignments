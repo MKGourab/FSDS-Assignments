{
 "cells": [
  {
   "cell_type": "code",
   "execution_count": null,
   "id": "17e3756e",
   "metadata": {},
   "outputs": [],
   "source": [
    "1. Write a Python Program to Find the Factorial of a Number?"
   ]
  },
  {
   "cell_type": "code",
   "execution_count": 3,
   "id": "a4d3f74c",
   "metadata": {},
   "outputs": [
    {
     "name": "stdout",
     "output_type": "stream",
     "text": [
      "Enter a Number: 5\n",
      "Factorial of 5 : 120\n"
     ]
    }
   ],
   "source": [
    "a=int(input(\"Enter a Number: \"))\n",
    "if a<=0:\n",
    "    print(\"Invalid Input\")\n",
    "else:\n",
    "    f=1\n",
    "    for i in range(1,a+1):\n",
    "        f=f*i\n",
    "    print(\"Factorial of {} : {}\".format(a,f))\n",
    "\n",
    "        "
   ]
  },
  {
   "cell_type": "code",
   "execution_count": null,
   "id": "c3f5ea37",
   "metadata": {},
   "outputs": [],
   "source": [
    "2. Write a Python Program to Display the multiplication Table?"
   ]
  },
  {
   "cell_type": "code",
   "execution_count": 8,
   "id": "91d4f7fa",
   "metadata": {},
   "outputs": [
    {
     "name": "stdout",
     "output_type": "stream",
     "text": [
      "Enter a Number: 4\n",
      "4*1=4\n",
      "4*2=8\n",
      "4*3=12\n",
      "4*4=16\n",
      "4*5=20\n",
      "4*6=24\n",
      "4*7=28\n",
      "4*8=32\n",
      "4*9=36\n",
      "4*10=40\n"
     ]
    }
   ],
   "source": [
    "a=int(input(\"Enter a Number: \"))\n",
    "if a<=0:\n",
    "    print(\"Invalid Input\")\n",
    "else:\n",
    "    for j in range(1,11):\n",
    "        print(\"{}*{}={}\".format(a,j,a*j))\n",
    "        \n",
    "        \n",
    "    "
   ]
  },
  {
   "cell_type": "code",
   "execution_count": null,
   "id": "00d5d3e0",
   "metadata": {},
   "outputs": [],
   "source": [
    "3. Write a Python Program to Print the Fibonacci sequence?"
   ]
  },
  {
   "cell_type": "code",
   "execution_count": 6,
   "id": "7571eb07",
   "metadata": {},
   "outputs": [
    {
     "name": "stdout",
     "output_type": "stream",
     "text": [
      "Enter a Number: 9\n",
      "1 2 3 5 8 13 21 34 55 "
     ]
    }
   ],
   "source": [
    "a=int(input(\"Enter a Number: \"))\n",
    "if a<0:\n",
    "    print(\"Invalid Input\")\n",
    "elif a==0:\n",
    "    print(\"0\")\n",
    "elif a==1:\n",
    "    print(\"1\")\n",
    "else:\n",
    "    s=0\n",
    "    f=1\n",
    "    for i in range(1,a+1):\n",
    "        c=s+f\n",
    "        s=f\n",
    "        f=c\n",
    "        print(f,end=\" \")"
   ]
  },
  {
   "cell_type": "code",
   "execution_count": null,
   "id": "b11ea562",
   "metadata": {},
   "outputs": [],
   "source": [
    "4. Write a Python Program to Check Armstrong Number?"
   ]
  },
  {
   "cell_type": "code",
   "execution_count": 40,
   "id": "b360af90",
   "metadata": {},
   "outputs": [
    {
     "name": "stdout",
     "output_type": "stream",
     "text": [
      "Enter a number: 9\n",
      "9 is an Armstrong number\n"
     ]
    }
   ],
   "source": [
    "n=int(input(\"Enter a number: \"))\n",
    "if n<=0:\n",
    "    print(\"Invalid input\")\n",
    "else:\n",
    "    d=len(str(n))#no of digits\n",
    "    sum=0\n",
    "    temp=n\n",
    "    while temp>0:\n",
    "        a=temp%10\n",
    "        sum=sum+a**d\n",
    "        temp//=10\n",
    "    if sum==n:\n",
    "        print(\"{} is an Armstrong number\".format(n))\n",
    "    else:\n",
    "        print(\"{} is not an Armstrong number\".format(n))\n",
    "    "
   ]
  },
  {
   "cell_type": "code",
   "execution_count": null,
   "id": "450a5b7f",
   "metadata": {},
   "outputs": [],
   "source": [
    "5. Write a Python Program to Find Armstrong Numbers in an Interval?"
   ]
  },
  {
   "cell_type": "code",
   "execution_count": 48,
   "id": "f37aac15",
   "metadata": {},
   "outputs": [
    {
     "name": "stdout",
     "output_type": "stream",
     "text": [
      "Enter a number: 408\n",
      "[1, 2, 3, 4, 5, 6, 7, 8, 9, 153, 370, 371, 407]\n"
     ]
    }
   ],
   "source": [
    "n=int(input(\"Enter a number: \"))\n",
    "lst=[]\n",
    "if n<=0:\n",
    "    print(\"Invalid input\")\n",
    "else:\n",
    "    for i in range(1,n+1):\n",
    "        d=len(str(i))#no of digits\n",
    "        sum=0\n",
    "        temp=i\n",
    "        while temp>0:\n",
    "            a=temp%10\n",
    "            sum=sum+a**d\n",
    "            temp//=10\n",
    "        if sum==i:\n",
    "            lst.append(i)\n",
    "    print(lst)\n",
    "    "
   ]
  },
  {
   "cell_type": "code",
   "execution_count": null,
   "id": "a2a4d83e",
   "metadata": {},
   "outputs": [],
   "source": [
    "6. Write a Python Program to Find the Sum of Natural Numbers?"
   ]
  },
  {
   "cell_type": "code",
   "execution_count": 53,
   "id": "84cb463e",
   "metadata": {},
   "outputs": [
    {
     "name": "stdout",
     "output_type": "stream",
     "text": [
      "Enter a Number: 5\n",
      "Sum of 5 Natural Numbers is : 15\n"
     ]
    }
   ],
   "source": [
    "a=int(input(\"Enter a Number: \"))\n",
    "if a<=0:\n",
    "    print(\"{} is not a Natural Number\".format(a))\n",
    "else:\n",
    "    s=0\n",
    "    for i in range(1,a+1):\n",
    "        s=s+i\n",
    "    print(\"Sum of {} Natural Numbers is : {}\".format(a,s))"
   ]
  }
 ],
 "metadata": {
  "kernelspec": {
   "display_name": "Python 3 (ipykernel)",
   "language": "python",
   "name": "python3"
  },
  "language_info": {
   "codemirror_mode": {
    "name": "ipython",
    "version": 3
   },
   "file_extension": ".py",
   "mimetype": "text/x-python",
   "name": "python",
   "nbconvert_exporter": "python",
   "pygments_lexer": "ipython3",
   "version": "3.9.12"
  }
 },
 "nbformat": 4,
 "nbformat_minor": 5
}
