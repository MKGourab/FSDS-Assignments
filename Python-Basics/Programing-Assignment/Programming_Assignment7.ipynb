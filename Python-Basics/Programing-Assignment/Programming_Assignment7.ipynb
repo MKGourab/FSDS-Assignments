{
 "cells": [
  {
   "cell_type": "code",
   "execution_count": null,
   "id": "040d4b7c",
   "metadata": {},
   "outputs": [],
   "source": [
    "1. Write a Python Program to find sum of array?"
   ]
  },
  {
   "cell_type": "code",
   "execution_count": 6,
   "id": "803305c3",
   "metadata": {},
   "outputs": [
    {
     "name": "stdout",
     "output_type": "stream",
     "text": [
      "enter elements to array:12,9,0,8,2,11\n",
      "sum of array: 42\n"
     ]
    }
   ],
   "source": [
    "def sum():\n",
    "    l=[int(v) for v in input(\"enter elements to array:\").split(\",\")]\n",
    "    sum=0\n",
    "    for i in l:\n",
    "        sum+=i\n",
    "    print(\"sum of array:\",sum)\n",
    "sum()"
   ]
  },
  {
   "cell_type": "code",
   "execution_count": null,
   "id": "804b28ba",
   "metadata": {},
   "outputs": [],
   "source": [
    "2. Write a Python Program to find largest element in an array?"
   ]
  },
  {
   "cell_type": "code",
   "execution_count": 8,
   "id": "22930445",
   "metadata": {},
   "outputs": [
    {
     "name": "stdout",
     "output_type": "stream",
     "text": [
      "enter elements to array:12,3,1,2,34,99,90\n",
      "Largest element of array: 99\n"
     ]
    }
   ],
   "source": [
    "def largest():\n",
    "    l=[int(v) for v in input(\"enter elements to array:\").split(\",\")]\n",
    "    print(\"Largest element of array:\",sorted(l)[-1])\n",
    "largest()"
   ]
  },
  {
   "cell_type": "code",
   "execution_count": null,
   "id": "526b138c",
   "metadata": {},
   "outputs": [],
   "source": [
    "3. Write a Python Program for array rotation?"
   ]
  },
  {
   "cell_type": "code",
   "execution_count": 11,
   "id": "3bd2a541",
   "metadata": {},
   "outputs": [
    {
     "name": "stdout",
     "output_type": "stream",
     "text": [
      "enter elements to array:1,2,3,4,5,6,7,8,9\n",
      "Reverse of [1, 2, 3, 4, 5, 6, 7, 8, 9]array: [9, 8, 7, 6, 5, 4, 3, 2, 1]\n"
     ]
    }
   ],
   "source": [
    "def reverse():\n",
    "    l=[int(v) for v in input(\"enter elements to array:\").split(\",\")]\n",
    "    print(f\"Reverse of {l}array:\",l[::-1])\n",
    "reverse()"
   ]
  },
  {
   "cell_type": "code",
   "execution_count": null,
   "id": "ebce7dab",
   "metadata": {},
   "outputs": [],
   "source": [
    "4. Write a Python Program to Split the array and add the first part to the end?"
   ]
  },
  {
   "cell_type": "code",
   "execution_count": 12,
   "id": "018c5edd",
   "metadata": {},
   "outputs": [
    {
     "name": "stdout",
     "output_type": "stream",
     "text": [
      "enter elements to array:1,2,3,4,5,6,7,8,9\n",
      "sum of first and end element of [1, 2, 3, 4, 5, 6, 7, 8, 9]array: 10\n"
     ]
    }
   ],
   "source": [
    "l=[int(v) for v in input(\"enter elements to array:\").split(\",\")]\n",
    "print(f\"sum of first and end element of {l}array:\",l[0]+l[-1])"
   ]
  },
  {
   "cell_type": "code",
   "execution_count": null,
   "id": "92465e32",
   "metadata": {},
   "outputs": [],
   "source": [
    "5. Write a Python Program to check if given array is Monotonic?"
   ]
  },
  {
   "cell_type": "code",
   "execution_count": 15,
   "id": "91aef0d5",
   "metadata": {},
   "outputs": [],
   "source": [
    "def isMonotonic():\n",
    "    A=[v for v in input(\"Enter values of Array: \").split(\",\")]\n",
    "    x, y = [], []\n",
    "    x.extend(A)\n",
    "    y.extend(A)\n",
    "    x.sort()\n",
    "    y.sort(reverse=True)\n",
    "    if(x == A or y == A):\n",
    "        print(\"{} is Monotonic\".format(A))\n",
    "    else:\n",
    "        print(\"{} is not Monotonic\".format(A))"
   ]
  },
  {
   "cell_type": "code",
   "execution_count": 16,
   "id": "27fc16c3",
   "metadata": {},
   "outputs": [
    {
     "name": "stdout",
     "output_type": "stream",
     "text": [
      "Enter values of Array: 1,2,3,4,1\n",
      "['1', '2', '3', '4', '1'] is not Monotonic\n"
     ]
    }
   ],
   "source": [
    "isMonotonic()"
   ]
  }
 ],
 "metadata": {
  "kernelspec": {
   "display_name": "Python 3 (ipykernel)",
   "language": "python",
   "name": "python3"
  },
  "language_info": {
   "codemirror_mode": {
    "name": "ipython",
    "version": 3
   },
   "file_extension": ".py",
   "mimetype": "text/x-python",
   "name": "python",
   "nbconvert_exporter": "python",
   "pygments_lexer": "ipython3",
   "version": "3.9.12"
  }
 },
 "nbformat": 4,
 "nbformat_minor": 5
}
