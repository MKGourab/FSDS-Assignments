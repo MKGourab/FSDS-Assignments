{
 "cells": [
  {
   "cell_type": "code",
   "execution_count": null,
   "id": "af7f9915",
   "metadata": {},
   "outputs": [],
   "source": [
    "1. Write a Python Program to Display Fibonacci Sequence Using Recursion?"
   ]
  },
  {
   "cell_type": "code",
   "execution_count": 15,
   "id": "0615d1b8",
   "metadata": {},
   "outputs": [
    {
     "name": "stdout",
     "output_type": "stream",
     "text": [
      "Enter a Number: 10\n",
      "fibonacci sequence : 0 1 1 2 3 5 8 13 21 34 55 "
     ]
    }
   ],
   "source": [
    "def fib():\n",
    "    a=int(input(\"Enter a Number: \"))\n",
    "    if a<0:\n",
    "        print(\"Invalid Input\")\n",
    "    elif a==0:\n",
    "        print(\"0\")\n",
    "    elif a==1:\n",
    "        print(\"1\")\n",
    "    else:\n",
    "        print(\"fibonacci sequence : 0 1 \",end=\"\")\n",
    "        s=0\n",
    "        f=1\n",
    "        for i in range(1,a):\n",
    "            c=s+f\n",
    "            s=f\n",
    "            f=c\n",
    "            print(f,end=\" \")\n",
    "fib()"
   ]
  },
  {
   "cell_type": "code",
   "execution_count": null,
   "id": "d4ceb351",
   "metadata": {},
   "outputs": [],
   "source": [
    "2. Write a Python Program to Find Factorial of Number Using Recursion?"
   ]
  },
  {
   "cell_type": "code",
   "execution_count": 3,
   "id": "511e5228",
   "metadata": {},
   "outputs": [
    {
     "name": "stdout",
     "output_type": "stream",
     "text": [
      "Enter a Number: 90\n",
      "Factorial of 90 : 1485715964481761497309522733620825737885569961284688766942216863704985393094065876545992131370884059645617234469978112000000000000000000000\n"
     ]
    }
   ],
   "source": [
    "def fact():\n",
    "    a=int(input(\"Enter a Number: \"))\n",
    "    if a<=0:\n",
    "        print(\"Invalid Input\")\n",
    "    else:\n",
    "        f=1\n",
    "        for i in range(1,a+1):\n",
    "            f=f*i\n",
    "        print(\"Factorial of {} : {}\".format(a,f))\n",
    "fact()"
   ]
  },
  {
   "cell_type": "code",
   "execution_count": null,
   "id": "73c71b97",
   "metadata": {},
   "outputs": [],
   "source": [
    "3. Write a Python Program to calculate your Body Mass Index?"
   ]
  },
  {
   "cell_type": "code",
   "execution_count": 22,
   "id": "ff268359",
   "metadata": {},
   "outputs": [
    {
     "name": "stdout",
     "output_type": "stream",
     "text": [
      "enter ur weight(in kgs) :60\n",
      "enter ur height(in cms) :170\n",
      "Your bmi is :20.76 \n",
      " Status : Normal weight\n"
     ]
    }
   ],
   "source": [
    "def BMI():\n",
    "    w=float(input(\"enter ur weight(in kgs) :\"))\n",
    "    h=float(input(\"enter ur height(in cms) :\"))\n",
    "    bmi=round(w/((h/100)**2),2)\n",
    "    if bmi<18.5:\n",
    "        print(f\"Your bmi is :{bmi} \\n Status : Underweight\")\n",
    "    elif 18.5<=bmi<25:\n",
    "        print(f\"Your bmi is :{bmi} \\n Status : Normal weight\")\n",
    "    elif 25<=bmi<30:\n",
    "        print(f\"Your bmi is :{bmi} \\n Status : Over weight\")\n",
    "    else:\n",
    "        print(f\"Your bmi is :{bmi} \\n Status : Obese\")\n",
    "BMI()       "
   ]
  },
  {
   "cell_type": "code",
   "execution_count": null,
   "id": "21bb8ce0",
   "metadata": {},
   "outputs": [],
   "source": [
    "4. Write a Python Program to calculate the natural logarithm of any number?"
   ]
  },
  {
   "cell_type": "code",
   "execution_count": 25,
   "id": "c79f1fb5",
   "metadata": {},
   "outputs": [
    {
     "name": "stdout",
     "output_type": "stream",
     "text": [
      "enter a number : 32\n",
      "logarithm of 32 is 3.466\n"
     ]
    }
   ],
   "source": [
    "import math\n",
    "n=int(input(\"enter a number : \"))\n",
    "log= round(math.log(n),3)\n",
    "print(f\"logarithm of {n} is {log}\")"
   ]
  },
  {
   "cell_type": "code",
   "execution_count": null,
   "id": "b21fe05e",
   "metadata": {},
   "outputs": [],
   "source": [
    "5. Write a Python Program for cube sum of first n natural numbers?"
   ]
  },
  {
   "cell_type": "code",
   "execution_count": 1,
   "id": "a95b73e6",
   "metadata": {},
   "outputs": [
    {
     "name": "stdout",
     "output_type": "stream",
     "text": [
      "enter a number : 3\n",
      "cube sum of first 3 numbers : 36\n"
     ]
    }
   ],
   "source": [
    "n=int(input(\"enter a number : \"))\n",
    "if n<=0:\n",
    "    print(\"Invalid input\")\n",
    "sum=0\n",
    "for i in range(1,n+1):\n",
    "    sum+=i**3\n",
    "print(f\"cube sum of first {n} numbers : {sum}\")"
   ]
  }
 ],
 "metadata": {
  "kernelspec": {
   "display_name": "Python 3 (ipykernel)",
   "language": "python",
   "name": "python3"
  },
  "language_info": {
   "codemirror_mode": {
    "name": "ipython",
    "version": 3
   },
   "file_extension": ".py",
   "mimetype": "text/x-python",
   "name": "python",
   "nbconvert_exporter": "python",
   "pygments_lexer": "ipython3",
   "version": "3.9.12"
  }
 },
 "nbformat": 4,
 "nbformat_minor": 5
}
